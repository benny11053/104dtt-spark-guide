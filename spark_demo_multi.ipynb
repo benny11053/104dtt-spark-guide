{
 "cells": [
  {
   "cell_type": "code",
   "execution_count": 1,
   "metadata": {},
   "outputs": [],
   "source": [
    "import math\n",
    "from datetime import datetime\n",
    "\n",
    "import pymysql"
   ]
  },
  {
   "cell_type": "code",
   "execution_count": 2,
   "metadata": {},
   "outputs": [],
   "source": [
    "property = {\n",
    "    \"host\": \"\",\n",
    "    \"user\": \"\",\n",
    "    \"password\": \"\",\n",
    "    \"database\": \"\",\n",
    "}"
   ]
  },
  {
   "cell_type": "code",
   "execution_count": 3,
   "metadata": {},
   "outputs": [],
   "source": [
    "def sql(connection, query, method = \"all\"):\n",
    "    with connection.cursor() as cursor:\n",
    "        cursor.execute(query)\n",
    "        if method == \"all\":\n",
    "            result = cursor.fetchall()\n",
    "        elif method == \"one\":\n",
    "            result = cursor.fetchone()\n",
    "        else:\n",
    "            ValueError(\"query error:\", query)\n",
    "\n",
    "    return result\n",
    "\n",
    "def get_connection():\n",
    "    return pymysql.connect(\n",
    "        host=property[\"host\"],\n",
    "        user=property[\"user\"],\n",
    "        password=property[\"password\"],\n",
    "        database=property[\"database\"],\n",
    "        charset='utf8mb4',\n",
    "        cursorclass=pymysql.cursors.DictCursor,\n",
    "    )"
   ]
  },
  {
   "cell_type": "code",
   "execution_count": 4,
   "metadata": {},
   "outputs": [
    {
     "name": "stdout",
     "output_type": "stream",
     "text": [
      "z_A01, z_A02, z_A03, z_A04, z_A05, z_A06, z_A07, z_B01, z_B02, z_B03, z_B04, z_B05, z_B06, z_B07, z_C01, z_C02, z_C03, z_C04, z_C05, z_C06, z_C07, z_I01, z_I02, z_I03, z_I04, z_I05, z_I06, z_I07, z_I08, z_L01, z_L02, z_L03, z_L04, z_L05, z_L06, z_L07, z_L08, z_R01, z_R02, z_R03, z_R04, z_R05, z_R06, z_R07, z_R08, z_R09, z_S01, z_S02, z_S03, z_S04, z_S05, z_S06, z_S07, z_D01, z_D02, z_D03, z_D04, z_D05, z_D06, z_D07, z_D08, z_D09, z_D10, z_D11, z_D12, z_D13, z_D14, z_D15, z_D16, z_D17, z_D18, z_D19, z_D20, z_D21, z_D22, z_D23, z_D24, z_D25, z_D26, z_D27, z_D28\n",
      "\n",
      "['tgu_id', 'idno', 'cid', 'invoice', 'industry_id', 'position_id', 'sm', 'sy', 'finish_date', 'z_A01', 'z_A02', 'z_A03', 'z_A04', 'z_A05', 'z_A06', 'z_A07', 'z_B01', 'z_B02', 'z_B03', 'z_B04', 'z_B05', 'z_B06', 'z_B07', 'z_C01', 'z_C02', 'z_C03', 'z_C04', 'z_C05', 'z_C06', 'z_C07', 'z_I01', 'z_I02', 'z_I03', 'z_I04', 'z_I05', 'z_I06', 'z_I07', 'z_I08', 'z_L01', 'z_L02', 'z_L03', 'z_L04', 'z_L05', 'z_L06', 'z_L07', 'z_L08', 'z_R01', 'z_R02', 'z_R03', 'z_R04', 'z_R05', 'z_R06', 'z_R07', 'z_R08', 'z_R09', 'z_S01', 'z_S02', 'z_S03', 'z_S04', 'z_S05', 'z_S06', 'z_S07', 'z_D01', 'z_D02', 'z_D03', 'z_D04', 'z_D05', 'z_D06', 'z_D07', 'z_D08', 'z_D09', 'z_D10', 'z_D11', 'z_D12', 'z_D13', 'z_D14', 'z_D15', 'z_D16', 'z_D17', 'z_D18', 'z_D19', 'z_D20', 'z_D21', 'z_D22', 'z_D23', 'z_D24', 'z_D25', 'z_D26', 'z_D27', 'z_D28']\n"
     ]
    }
   ],
   "source": [
    "dms_ids_c = {\n",
    "    \"A\": 7,\n",
    "    \"B\": 7,\n",
    "    \"C\": 7,\n",
    "    \"I\": 8,\n",
    "    \"L\": 8,\n",
    "    \"R\": 9,\n",
    "    \"S\": 7,\n",
    "}\n",
    "dms_p_count = 28\n",
    "\n",
    "z_fields = [f\"z_{prefix}{str(num).zfill(2)}\" for prefix, max_num in dms_ids_c.items() for num in range(1, max_num + 1)]\n",
    "z_fields += [f\"z_D{str(num).zfill(2)}\" for num in range(1, dms_p_count + 1)]\n",
    "z_fields_str = \", \".join(z_fields)\n",
    "print(z_fields_str)\n",
    "print()\n",
    "\n",
    "sample_fields = f\"tgu_id, idno, cid, invoice, industry_id, position_id, sm, sy, finish_date, {z_fields_str}\".split(\", \")\n",
    "print(sample_fields)"
   ]
  },
  {
   "cell_type": "code",
   "execution_count": 5,
   "metadata": {},
   "outputs": [
    {
     "name": "stdout",
     "output_type": "stream",
     "text": [
      "10000\n",
      "False\n"
     ]
    }
   ],
   "source": [
    "connection = get_connection()\n",
    "\n",
    "query = \"\"\"\n",
    "    SELECT DISTINCT idno\n",
    "    FROM target_user_sample\n",
    "    WHERE idno > 0\n",
    "    ORDER BY idno\n",
    "    LIMIT 10000\n",
    "\"\"\"\n",
    "result = sql(connection, query)\n",
    "idnos = [row[\"idno\"] for row in result]\n",
    "print(len(idnos))\n",
    "\n",
    "if connection.open:\n",
    "    connection.close()\n",
    "print(connection.open)"
   ]
  },
  {
   "cell_type": "code",
   "execution_count": 6,
   "metadata": {},
   "outputs": [
    {
     "data": {
      "text/plain": [
       "'tgu_id, idno, finish_date, z_A01, z_A02, z_A03, z_A04, z_A05, z_A06, z_A07, z_B01, z_B02, z_B03, z_B04, z_B05, z_B06, z_B07, z_C01, z_C02, z_C03, z_C04, z_C05, z_C06, z_C07, z_I01, z_I02, z_I03, z_I04, z_I05, z_I06, z_I07, z_I08, z_L01, z_L02, z_L03, z_L04, z_L05, z_L06, z_L07, z_L08, z_R01, z_R02, z_R03, z_R04, z_R05, z_R06, z_R07, z_R08, z_R09, z_S01, z_S02, z_S03, z_S04, z_S05, z_S06, z_S07, z_D01, z_D02, z_D03, z_D04, z_D05, z_D06, z_D07, z_D08, z_D09, z_D10, z_D11, z_D12, z_D13, z_D14, z_D15, z_D16, z_D17, z_D18, z_D19, z_D20, z_D21, z_D22, z_D23, z_D24, z_D25, z_D26, z_D27, z_D28'"
      ]
     },
     "execution_count": 6,
     "metadata": {},
     "output_type": "execute_result"
    }
   ],
   "source": [
    "tgu_str = f\"tgu_id, idno, finish_date, {z_fields_str}\"\n",
    "tgu_str"
   ]
  },
  {
   "cell_type": "code",
   "execution_count": 7,
   "metadata": {},
   "outputs": [],
   "source": [
    "import multiprocessing as mp\n",
    "\n",
    "def process(idnos, tgu_str):\n",
    "    connection = get_connection()\n",
    "    start = datetime.now()\n",
    "    with connection:\n",
    "        sample_datas = []\n",
    "        for i, idno in enumerate(idnos, start=1):\n",
    "            query = f\"\"\"\n",
    "                SELECT {tgu_str}\n",
    "                FROM target_user_sample\n",
    "                WHERE idno = {idno}\n",
    "            \"\"\"\n",
    "            tgus = sql(connection, query)\n",
    "            if len(tgus) == 0:\n",
    "                continue\n",
    "\n",
    "            query = f\"\"\"\n",
    "                SELECT invoice, ind_cat_no, job_cat_no, start_date, end_date\n",
    "                FROM exp_job\n",
    "                WHERE id_no = {idno} AND (job_cat_no > 0 OR ind_cat_no > 0)\n",
    "            \"\"\"\n",
    "            exps = sql(connection, query)\n",
    "            if len(exps) == 0:\n",
    "                continue\n",
    "\n",
    "            for exp in exps:\n",
    "                start_ts = exp[\"start_date\"].timestamp()\n",
    "                start_y = int(exp[\"start_date\"].strftime(\"%Y\"))\n",
    "                start_m = int(exp[\"start_date\"].strftime(\"%m\"))\n",
    "\n",
    "                if exp[\"end_date\"] and start_ts < exp[\"end_date\"].timestamp():\n",
    "                    end_ts = exp[\"end_date\"].timestamp()\n",
    "                    end_y = int(exp[\"end_date\"].strftime(\"%Y\"))\n",
    "                    end_m = int(exp[\"end_date\"].strftime(\"%m\"))\n",
    "                else:\n",
    "                    if not exp[\"end_date\"]:\n",
    "                        print(f\"~~~ -> {exp['end_date']}\")\n",
    "\n",
    "                    query = f\"SELECT update_date FROM basic WHERE id_no = {idno}\"\n",
    "                    basic = sql(connection, query, \"one\")\n",
    "                    end_ts = basic[\"update_date\"].timestamp()\n",
    "                    end_y = int(basic[\"update_date\"].strftime(\"%Y\"))\n",
    "                    end_m = int(basic[\"update_date\"].strftime(\"%m\"))\n",
    "\n",
    "                sm = (end_y - start_y) * 12 + (end_m - start_m)\n",
    "                sm = 750 if sm > 750 else sm\n",
    "\n",
    "                sy = -9.9999999999\n",
    "                if exp[\"end_date\"] and start_ts < exp[\"end_date\"].timestamp():\n",
    "                    if sm == 0:\n",
    "                        sy = round(2 + math.log2(0.5 / 3), 10)\n",
    "                    else:\n",
    "                        sy = round(2 + math.log2(sm / 3), 10)\n",
    "\n",
    "                min_diff = 1e20\n",
    "                for tgu in tgus:\n",
    "                    cur_diff = abs((start_ts + end_ts) / 2 - tgu[\"finish_date\"].timestamp())\n",
    "                    if cur_diff < min_diff:\n",
    "                        target_tgu = tgu\n",
    "                        min_diff = cur_diff\n",
    "\n",
    "                query = f\"\"\"SELECT cid FROM cid_mapping WHERE invoice = {exp['invoice']} ORDER BY cid\"\"\"\n",
    "                cid = 0 if int(exp[\"invoice\"]) == 0 else sql(connection, query, \"one\")\n",
    "                cid = cid if cid else {\"cid\": 0}\n",
    "                sample_data = target_tgu.copy()\n",
    "                sample_data[\"cid\"] = cid[\"cid\"]\n",
    "                sample_data[\"invoice\"] = int(exp[\"invoice\"])\n",
    "                sample_data[\"industry_id\"] = exp[\"ind_cat_no\"]\n",
    "                sample_data[\"position_id\"] = exp[\"job_cat_no\"]\n",
    "                sample_data[\"sm\"] = sm\n",
    "                sample_data[\"sy\"] = sy\n",
    "                sample_datas.append(sample_data)\n",
    "\n",
    "            if i % 2000 == 0 or i == len(idnos):\n",
    "                end = datetime.now()\n",
    "                time_taken = end - start\n",
    "                print(f\"{mp.current_process().name}, {i} completed in {time_taken}\")\n",
    "    \n",
    "    if connection.open:\n",
    "        connection.close()\n",
    "    print(len(sample_datas))\n",
    "    \n",
    "    return sample_datas"
   ]
  },
  {
   "cell_type": "code",
   "execution_count": 8,
   "metadata": {},
   "outputs": [
    {
     "name": "stdout",
     "output_type": "stream",
     "text": [
      "4547\n",
      "ForkProcess-2, 1250 completed in 0:00:16.658529\n",
      "4993\n",
      "ForkProcess-8, 1250 completed in 0:00:18.754067\n",
      "4688\n",
      "ForkProcess-7, 1250 completed in 0:00:19.524154\n",
      "5143\n",
      "ForkProcess-3, 1250 completed in 0:00:19.847261\n",
      "4794\n",
      "ForkProcess-4, 1250 completed in 0:00:19.886880\n",
      "4611\n",
      "ForkProcess-6, 1250 completed in 0:00:19.931444\n",
      "4814\n",
      "ForkProcess-5, 1250 completed in 0:00:22.374604\n",
      "4742\n",
      "38332\n",
      "Multi-processing completed in 0:00:22.536844\n"
     ]
    }
   ],
   "source": [
    "from concurrent.futures import ProcessPoolExecutor\n",
    "\n",
    "start = datetime.now()\n",
    "\n",
    "max_workers = 8\n",
    "executor = ProcessPoolExecutor(max_workers)\n",
    "batch_size = math.ceil(len(idnos) / max_workers)\n",
    "\n",
    "futures = [\n",
    "    executor.submit(\n",
    "        process,\n",
    "        idnos[i * batch_size : (i + 1) * batch_size],\n",
    "        tgu_str,\n",
    "    )\n",
    "    for i in range(max_workers)\n",
    "]\n",
    "\n",
    "sample_datas = []\n",
    "for future in futures:\n",
    "    sample_datas.extend(future.result())\n",
    "\n",
    "print(len(sample_datas))\n",
    "end = datetime.now()\n",
    "time_taken = end - start\n",
    "# cid_mapping 的 invoice 欄位有加 index\n",
    "print(f\"Multi-processing completed in {time_taken}\")"
   ]
  },
  {
   "cell_type": "code",
   "execution_count": null,
   "metadata": {},
   "outputs": [],
   "source": []
  }
 ],
 "metadata": {
  "kernelspec": {
   "display_name": "Python 3",
   "language": "python",
   "name": "python3"
  },
  "language_info": {
   "codemirror_mode": {
    "name": "ipython",
    "version": 3
   },
   "file_extension": ".py",
   "mimetype": "text/x-python",
   "name": "python",
   "nbconvert_exporter": "python",
   "pygments_lexer": "ipython3",
   "version": "3.7.6"
  }
 },
 "nbformat": 4,
 "nbformat_minor": 4
}
