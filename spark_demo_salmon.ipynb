{
 "cells": [
  {
   "cell_type": "code",
   "execution_count": 1,
   "metadata": {},
   "outputs": [],
   "source": [
    "import pyspark\n",
    "from pyspark.sql import SparkSession\n",
    "from pyspark.sql import functions as f\n",
    "from pyspark.sql.functions import col \n",
    "from pyspark.sql.types import *\n",
    "from pyspark.sql.functions import udf"
   ]
  },
  {
   "cell_type": "code",
   "execution_count": 2,
   "metadata": {},
   "outputs": [],
   "source": [
    "spark = (SparkSession\n",
    "          .builder\\\n",
    "          .master(\"local[8]\")\n",
    "          .appName(\"demo_salmon\")\\\n",
    "          .getOrCreate())"
   ]
  },
  {
   "cell_type": "code",
   "execution_count": 3,
   "metadata": {},
   "outputs": [],
   "source": [
    "s3url = 'spark_demo_salmon_data.csv'\n",
    "df = spark.read.format(\"csv\") \\\n",
    "    .option(\"innerSchema\",\"true\") \\\n",
    "    .option(\"header\",\"true\") \\\n",
    "    .option(\"nullValue\",\"None\") \\\n",
    "    .load(s3url)"
   ]
  },
  {
   "cell_type": "code",
   "execution_count": 4,
   "metadata": {},
   "outputs": [
    {
     "name": "stdout",
     "output_type": "stream",
     "text": [
      "root\n",
      " |-- 編號: string (nullable = true)\n",
      " |-- 鄉鎮市區: string (nullable = true)\n",
      " |-- 主要用途: string (nullable = true)\n",
      " |-- 單價元坪: string (nullable = true)\n",
      " |-- 建築完成年: string (nullable = true)\n",
      "\n"
     ]
    }
   ],
   "source": [
    "df.printSchema()"
   ]
  },
  {
   "cell_type": "code",
   "execution_count": 5,
   "metadata": {},
   "outputs": [
    {
     "name": "stdout",
     "output_type": "stream",
     "text": [
      "+--------+\n",
      "|主要用途|\n",
      "+--------+\n",
      "|  住家用|\n",
      "+--------+\n",
      "\n",
      "+--------+\n",
      "|鄉鎮市區|\n",
      "+--------+\n",
      "|  中正區|\n",
      "|  中山區|\n",
      "|  內湖區|\n",
      "|  士林區|\n",
      "|  北投區|\n",
      "|  文山區|\n",
      "|  大同區|\n",
      "|  萬華區|\n",
      "|  南港區|\n",
      "|  松山區|\n",
      "|  大安區|\n",
      "|  信義區|\n",
      "+--------+\n",
      "\n",
      "+----------+\n",
      "|建築完成年|\n",
      "+----------+\n",
      "|          |\n",
      "|       084|\n",
      "|       071|\n",
      "|       070|\n",
      "|       060|\n",
      "|       106|\n",
      "|       099|\n",
      "|       069|\n",
      "|       083|\n",
      "|       107|\n",
      "|       095|\n",
      "|       068|\n",
      "|       097|\n",
      "|       089|\n",
      "|       104|\n",
      "|       072|\n",
      "|       067|\n",
      "|       078|\n",
      "|       052|\n",
      "|       073|\n",
      "+----------+\n",
      "only showing top 20 rows\n",
      "\n"
     ]
    }
   ],
   "source": [
    "# Data Mining\n",
    "df.select('主要用途').distinct().show()\n",
    "df.select('鄉鎮市區').distinct().show()\n",
    "df.select('建築完成年').na.drop().distinct().show()"
   ]
  },
  {
   "cell_type": "code",
   "execution_count": 6,
   "metadata": {},
   "outputs": [],
   "source": [
    "# sql api "
   ]
  },
  {
   "cell_type": "code",
   "execution_count": 7,
   "metadata": {},
   "outputs": [],
   "source": [
    "df.createOrReplaceTempView(\"DF\")\n",
    "\n",
    "sql = f\"\"\"\n",
    "    SELECT `編號`, `鄉鎮市區`, `主要用途`, `單價元坪`, \n",
    "            CAST(`建築完成年` AS INT)+1911 AS `建築完成西元年`\n",
    "    FROM DF\n",
    "    WHERE `單價元坪` BETWEEN 200000 and 500000 \n",
    "\"\"\"\n",
    "\n",
    "result = spark.sql(sql)"
   ]
  },
  {
   "cell_type": "code",
   "execution_count": 10,
   "metadata": {},
   "outputs": [
    {
     "name": "stdout",
     "output_type": "stream",
     "text": [
      "+-------------------+--------+--------+------------------+--------------+\n",
      "|               編號|鄉鎮市區|主要用途|          單價元坪|建築完成西元年|\n",
      "+-------------------+--------+--------+------------------+--------------+\n",
      "|RPQOMLNJNHOFFAA57CA|  中正區|  住家用|244284.29752066117|          1985|\n",
      "|RPOQMLNJNHOFFAA57CA|  文山區|  住家用| 424525.6198347107|          null|\n",
      "|RPQQMLNJNHOFFAA77CA|  文山區|  住家用|302614.87603305787|          1999|\n",
      "|RPPNMLRJNHOFFAA77CA|  文山區|  住家用|282003.30578512396|          null|\n",
      "|RPWPMLNJNHOFFAA28CA|  文山區|  住家用| 418532.2314049587|          1998|\n",
      "|RPWNMLTJNHOFFAA68CA|  文山區|  住家用| 405818.1818181818|          1999|\n",
      "|RPTOMLNKNHOFFAA97CA|  文山區|  住家用|323408.26446280995|          1995|\n",
      "|RPQNMLRKNHOFFAA97CA|  文山區|  住家用| 365990.0826446281|          1982|\n",
      "|RPRNMLMJNHOFFBA57CA|  大同區|  住家用|410429.75206611573|          1973|\n",
      "|RPRPMLQJNHOFFBA18CA|  大同區|  住家用|352948.76033057855|          1981|\n",
      "|RPTNMLOLNHOFFBA18CA|  萬華區|  住家用| 484879.3388429752|          2011|\n",
      "|RPPRMLMJNHOFFCA87CA|  中山區|  住家用|  421606.611570248|          1980|\n",
      "|RPUTMLNJNHOFFCA68CA|  中山區|  住家用| 483778.5123966942|          2011|\n",
      "|RPTNMLRJNHOFFCA38CA|  中山區|  住家用|440386.77685950417|          1982|\n",
      "|RPSOMLSJNHOFFCA48CA|  內湖區|  住家用|416803.30578512396|          1981|\n",
      "|RPTNMLNJNHOFFDA08CA|  南港區|  住家用| 498251.2396694215|          2011|\n",
      "|RPQNMLKKNHOFFDA57CA|  南港區|  住家用| 422033.0578512397|          1994|\n",
      "|RPPNMLSJNHOFFEA28CA|  士林區|  住家用|450727.27272727276|          1977|\n",
      "|RPUOMLLLNHOFFEA38CA|  北投區|  住家用|409824.79338842974|          1981|\n",
      "|RPVNMLTLNHOFFEA56CA|  北投區|  住家用|          432000.0|          1970|\n",
      "+-------------------+--------+--------+------------------+--------------+\n",
      "only showing top 20 rows\n",
      "\n"
     ]
    }
   ],
   "source": [
    "result.show()"
   ]
  },
  {
   "cell_type": "code",
   "execution_count": 11,
   "metadata": {},
   "outputs": [
    {
     "name": "stdout",
     "output_type": "stream",
     "text": [
      "+-------------------+--------+--------+------------------+--------------+\n",
      "|               編號|鄉鎮市區|主要用途|          單價元坪|建築完成西元年|\n",
      "+-------------------+--------+--------+------------------+--------------+\n",
      "|RPQOMLNJNHOFFAA57CA|  中正區|  住家用|244284.29752066117|          1985|\n",
      "|RPOQMLNJNHOFFAA57CA|  文山區|  住家用| 424525.6198347107|          null|\n",
      "|RPQQMLNJNHOFFAA77CA|  文山區|  住家用|302614.87603305787|          1999|\n",
      "|RPPNMLRJNHOFFAA77CA|  文山區|  住家用|282003.30578512396|          null|\n",
      "|RPWPMLNJNHOFFAA28CA|  文山區|  住家用| 418532.2314049587|          1998|\n",
      "|RPWNMLTJNHOFFAA68CA|  文山區|  住家用| 405818.1818181818|          1999|\n",
      "|RPTOMLNKNHOFFAA97CA|  文山區|  住家用|323408.26446280995|          1995|\n",
      "|RPQNMLRKNHOFFAA97CA|  文山區|  住家用| 365990.0826446281|          1982|\n",
      "|RPRNMLMJNHOFFBA57CA|  大同區|  住家用|410429.75206611573|          1973|\n",
      "|RPRPMLQJNHOFFBA18CA|  大同區|  住家用|352948.76033057855|          1981|\n",
      "|RPTNMLOLNHOFFBA18CA|  萬華區|  住家用| 484879.3388429752|          2011|\n",
      "|RPPRMLMJNHOFFCA87CA|  中山區|  住家用|  421606.611570248|          1980|\n",
      "|RPUTMLNJNHOFFCA68CA|  中山區|  住家用| 483778.5123966942|          2011|\n",
      "|RPTNMLRJNHOFFCA38CA|  中山區|  住家用|440386.77685950417|          1982|\n",
      "|RPSOMLSJNHOFFCA48CA|  內湖區|  住家用|416803.30578512396|          1981|\n",
      "|RPTNMLNJNHOFFDA08CA|  南港區|  住家用| 498251.2396694215|          2011|\n",
      "|RPQNMLKKNHOFFDA57CA|  南港區|  住家用| 422033.0578512397|          1994|\n",
      "|RPPNMLSJNHOFFEA28CA|  士林區|  住家用|450727.27272727276|          1977|\n",
      "|RPUOMLLLNHOFFEA38CA|  北投區|  住家用|409824.79338842974|          1981|\n",
      "|RPVNMLTLNHOFFEA56CA|  北投區|  住家用|          432000.0|          1970|\n",
      "+-------------------+--------+--------+------------------+--------------+\n",
      "only showing top 20 rows\n",
      "\n"
     ]
    }
   ],
   "source": [
    "# function api\n",
    "df.withColumn('建築完成西元年' ,col('建築完成年').cast(IntegerType())+1911)\\\n",
    "  .select(col('編號'),\n",
    "          col('鄉鎮市區'),\n",
    "          col('主要用途'),\n",
    "          col('單價元坪'),\n",
    "          col('建築完成西元年')) \\\n",
    "    .where(col('單價元坪')>=200000) \\\n",
    "    .where(col('單價元坪')<=500000) \\\n",
    "    .show()"
   ]
  },
  {
   "cell_type": "code",
   "execution_count": 31,
   "metadata": {},
   "outputs": [],
   "source": [
    "spark.stop()"
   ]
  },
  {
   "cell_type": "code",
   "execution_count": null,
   "metadata": {},
   "outputs": [],
   "source": []
  },
  {
   "cell_type": "code",
   "execution_count": null,
   "metadata": {},
   "outputs": [],
   "source": []
  },
  {
   "cell_type": "code",
   "execution_count": null,
   "metadata": {},
   "outputs": [],
   "source": []
  }
 ],
 "metadata": {
  "kernelspec": {
   "display_name": "Python 3",
   "language": "python",
   "name": "python3"
  },
  "language_info": {
   "codemirror_mode": {
    "name": "ipython",
    "version": 3
   },
   "file_extension": ".py",
   "mimetype": "text/x-python",
   "name": "python",
   "nbconvert_exporter": "python",
   "pygments_lexer": "ipython3",
   "version": "3.6.2"
  }
 },
 "nbformat": 4,
 "nbformat_minor": 4
}
