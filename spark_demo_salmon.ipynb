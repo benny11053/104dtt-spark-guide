{
 "cells": [
  {
   "cell_type": "code",
   "execution_count": 1,
   "metadata": {},
   "outputs": [],
   "source": [
    "import numpy as np\n",
    "import pandas as pd\n",
    "import pyspark\n",
    "from pyspark.sql import SparkSession\n",
    "from pyspark.sql import functions as f\n",
    "from pyspark.sql.functions import col \n",
    "from pyspark.sql.types import *\n",
    "from pyspark.sql.functions import udf"
   ]
  },
  {
   "cell_type": "code",
   "execution_count": 2,
   "metadata": {},
   "outputs": [],
   "source": [
    "spark = (SparkSession\n",
    "          .builder\\\n",
    "          .master(\"local[4]\")\n",
    "          .appName(\"Q4\")\\\n",
    "          #.config(\"spark.hadoop.fs.s3a.aws.credentials.provider\", \"com.amazonaws.auth.ContainerCredentialsProvider\")\\\n",
    "          .config(\"spark.hadoop.fs.s3a.aws.credentials.provider\", \"com.amazonaws.auth.EnvironmentVariableCredentialsProvider\")\\\n",
    "          .config(\"spark.hadoop.fs.s3a.impl', 'org.apache.hadoop.fs.s3a.S3AFileSystem\")\\\n",
    "          .config(\"spark.sql.shuffle.partitions\", \"2\")\\\n",
    "          .getOrCreate())"
   ]
  },
  {
   "cell_type": "code",
   "execution_count": 242,
   "metadata": {},
   "outputs": [],
   "source": [
    "s3url = 's3a://dtt-rookie-battlefiled/practice/Q4/*.csv'\n",
    "df = spark.read.format(\"csv\") \\\n",
    "    .option(\"innerSchema\",\"true\") \\\n",
    "    .option(\"header\",\"true\") \\\n",
    "    .option(\"nullValue\",\"None\") \\\n",
    "    .load(s3url)\n"
   ]
  },
  {
   "cell_type": "code",
   "execution_count": 17,
   "metadata": {},
   "outputs": [
    {
     "name": "stdout",
     "output_type": "stream",
     "text": [
      "root\n",
      " |-- 鄉鎮市區: string (nullable = true)\n",
      " |-- 交易標的: string (nullable = true)\n",
      " |-- 土地區段位置建物區段門牌: string (nullable = true)\n",
      " |-- 土地移轉總面積平方公尺: string (nullable = true)\n",
      " |-- 都市土地使用分區: string (nullable = true)\n",
      " |-- 非都市土地使用分區: string (nullable = true)\n",
      " |-- 非都市土地使用編定: string (nullable = true)\n",
      " |-- 交易年月日: string (nullable = true)\n",
      " |-- 交易筆棟數: string (nullable = true)\n",
      " |-- 移轉層次: string (nullable = true)\n",
      " |-- 總樓層數: string (nullable = true)\n",
      " |-- 建物型態: string (nullable = true)\n",
      " |-- 主要用途: string (nullable = true)\n",
      " |-- 主要建材: string (nullable = true)\n",
      " |-- 建築完成年月: string (nullable = true)\n",
      " |-- 建物移轉總面積平方公尺: string (nullable = true)\n",
      " |-- 建物現況格局-房: string (nullable = true)\n",
      " |-- 建物現況格局-廳: string (nullable = true)\n",
      " |-- 建物現況格局-衛: string (nullable = true)\n",
      " |-- 建物現況格局-隔間: string (nullable = true)\n",
      " |-- 有無管理組織: string (nullable = true)\n",
      " |-- 總價元: string (nullable = true)\n",
      " |-- 單價元平方公尺: string (nullable = true)\n",
      " |-- 車位類別: string (nullable = true)\n",
      " |-- 車位移轉總面積平方公尺: string (nullable = true)\n",
      " |-- 車位總價元: string (nullable = true)\n",
      " |-- 備註: string (nullable = true)\n",
      " |-- 編號: string (nullable = true)\n",
      "\n"
     ]
    }
   ],
   "source": [
    "df.printSchema()"
   ]
  },
  {
   "cell_type": "code",
   "execution_count": 227,
   "metadata": {
    "scrolled": false
   },
   "outputs": [
    {
     "name": "stdout",
     "output_type": "stream",
     "text": [
      "+--------------+\n",
      "|      主要用途|\n",
      "+--------------+\n",
      "|        住商用|\n",
      "|        商業用|\n",
      "|        工業用|\n",
      "|見其它登記事項|\n",
      "|          農舍|\n",
      "|        辦公室|\n",
      "|見其他登記事項|\n",
      "|        住家用|\n",
      "|        工商用|\n",
      "|    見使用執照|\n",
      "|      國民住宅|\n",
      "|        住工用|\n",
      "|          住宅|\n",
      "+--------------+\n",
      "\n",
      "+--------+\n",
      "|鄉鎮市區|\n",
      "+--------+\n",
      "|  中正區|\n",
      "|  中山區|\n",
      "|  內湖區|\n",
      "|  士林區|\n",
      "|  北投區|\n",
      "|  大安區|\n",
      "|  文山區|\n",
      "|  大同區|\n",
      "|  萬華區|\n",
      "|  南港區|\n",
      "|  松山區|\n",
      "|  信義區|\n",
      "+--------+\n",
      "\n",
      "+------------+\n",
      "|建築完成年月|\n",
      "+------------+\n",
      "|     1070702|\n",
      "|     0691002|\n",
      "|     0840311|\n",
      "|     0850522|\n",
      "|     0611127|\n",
      "|     0950817|\n",
      "|     0750228|\n",
      "|     0970218|\n",
      "|     1071213|\n",
      "|     1071213|\n",
      "|     1071213|\n",
      "|     1071213|\n",
      "|     1071213|\n",
      "|     1071213|\n",
      "|     1071213|\n",
      "|     1071213|\n",
      "|     0620410|\n",
      "|     1071213|\n",
      "|     1071213|\n",
      "|     1071213|\n",
      "+------------+\n",
      "only showing top 20 rows\n",
      "\n"
     ]
    }
   ],
   "source": [
    "# Data Mining\n",
    "df.select('主要用途').distinct().show()\n",
    "df.select('鄉鎮市區').where(col('鄉鎮市區').rlike(expr_taipei)).distinct().show()\n",
    "df.select('建築完成年月').show()"
   ]
  },
  {
   "cell_type": "code",
   "execution_count": 223,
   "metadata": {},
   "outputs": [],
   "source": [
    "#只住人\n",
    "expr_home='住宅|國民住宅|住家用'\n",
    "#Taipei\n",
    "expr_taipei='南港區|北投區|內湖區|萬華區|中正區|文山區|中山區|松山區|信義區|大安區|大同區|士林區'\n",
    "\n"
   ]
  },
  {
   "cell_type": "code",
   "execution_count": 224,
   "metadata": {},
   "outputs": [],
   "source": [
    "#坪＊0.3025 = 平方公尺 \n",
    "a = 1/0.3025"
   ]
  },
  {
   "cell_type": "code",
   "execution_count": 18,
   "metadata": {},
   "outputs": [],
   "source": [
    "df.createOrReplaceTempView(\"DF\")"
   ]
  },
  {
   "cell_type": "code",
   "execution_count": 288,
   "metadata": {},
   "outputs": [],
   "source": [
    "sql = f\"\"\"\n",
    "        SELECT `編號`, `鄉鎮市區`, `主要用途`, \n",
    "        ROUND(CAST(`單價元平方公尺` AS INT)*/0.3025),2) AS `單價元坪`, \n",
    "        CAST(SUBSTRING(`建築完成年月`,1,3) AS INT)+1911 AS `建築完成年`\n",
    "        FROM DF\n",
    "        WHERE\n",
    "        `編號` != 'serial number' AND\n",
    "        `主要用途` REGEXP '{expr_home}' AND\n",
    "        `鄉鎮市區` REGEXP '{expr_taipei}' AND\n",
    "        CAST(`單價元平方公尺` AS INT)*(1/0.3025) BETWEEN 200000 and 500000 AND\n",
    "        (CAST(SUBSTRING(`建築完成年月`,1,3) AS INT)+1911) >= 2000\n",
    "\"\"\""
   ]
  },
  {
   "cell_type": "code",
   "execution_count": 289,
   "metadata": {},
   "outputs": [],
   "source": [
    "result = spark.sql(sql)"
   ]
  },
  {
   "cell_type": "code",
   "execution_count": 290,
   "metadata": {},
   "outputs": [
    {
     "name": "stdout",
     "output_type": "stream",
     "text": [
      "+-------------------+--------+--------+---------+----------+\n",
      "|               編號|鄉鎮市區|主要用途| 單價元坪|建築完成年|\n",
      "+-------------------+--------+--------+---------+----------+\n",
      "|RPTNMLOLNHOFFBA18CA|  萬華區|  住家用|484879.32|      2011|\n",
      "|RPUTMLNJNHOFFCA68CA|  中山區|  住家用|483778.49|      2011|\n",
      "|RPTNMLNJNHOFFDA08CA|  南港區|  住家用|498251.22|      2011|\n",
      "|RPUOMLNKNHOFFAA18DA|  文山區|  住家用|446155.36|      2010|\n",
      "|RPXNMLMJNHOFFBA28DA|  萬華區|  住家用|466181.80|      2011|\n",
      "|RPVNMLOKNHOFFCA38CA|  中山區|  住家用|433831.39|      2003|\n",
      "|RPPNMLSLNHOFFBA18CA|  萬華區|  住家用|483999.98|      2011|\n",
      "|RPOQMLOLNHOFFCA08CA|  內湖區|  住家用|459100.81|      2006|\n",
      "|RPRPMLRJNHOFFEA58CA|  士林區|  住家用|451302.46|      2002|\n",
      "|RPRNMLLKNHOFFDA87DA|  南港區|  住家用|420413.21|      2008|\n",
      "|RPSQMLQJNHOFFCA48CA|  內湖區|  住家用|497312.38|      2009|\n",
      "|RPUOMLKKNHOFFAA77CA|  文山區|  住家用|433930.56|      2008|\n",
      "|RPROMLTJNHOFFAA28CA|  文山區|  住家用|481355.35|      2011|\n",
      "+-------------------+--------+--------+---------+----------+\n",
      "\n"
     ]
    }
   ],
   "source": [
    "result.show()"
   ]
  },
  {
   "cell_type": "code",
   "execution_count": 222,
   "metadata": {},
   "outputs": [],
   "source": [
    "# UDF f.substring(col('建築完成年月'),0,3)\n",
    "def toAD (x):\n",
    "    if x is not None:\n",
    "        return f.substring(x,0,3) + 1911\n"
   ]
  },
  {
   "cell_type": "code",
   "execution_count": 243,
   "metadata": {},
   "outputs": [
    {
     "name": "stdout",
     "output_type": "stream",
     "text": [
      "+-------------------+--------+--------+------------------+------------+\n",
      "|               編號|鄉鎮市區|主要用途|          單價元坪|建築完成年月|\n",
      "+-------------------+--------+--------+------------------+------------+\n",
      "|RPTNMLOLNHOFFBA18CA|  萬華區|  住家用| 484879.3388429752|     1000908|\n",
      "|RPUTMLNJNHOFFCA68CA|  中山區|  住家用| 483778.5123966942|     1000824|\n",
      "|RPTNMLNJNHOFFDA08CA|  南港區|  住家用| 498251.2396694215|     1000307|\n",
      "|RPUOMLNKNHOFFAA18DA|  文山區|  住家用|446155.37190082646|     0990520|\n",
      "|RPXNMLMJNHOFFBA28DA|  萬華區|  住家用| 466181.8181818182|     1000908|\n",
      "|RPVNMLOKNHOFFCA38CA|  中山區|  住家用| 433831.4049586777|     0920618|\n",
      "|RPPNMLSLNHOFFBA18CA|  萬華區|  住家用|          484000.0|     1000908|\n",
      "|RPOQMLOLNHOFFCA08CA|  內湖區|  住家用|  459100.826446281|     0951027|\n",
      "|RPRPMLRJNHOFFEA58CA|  士林區|  住家用|451302.47933884297|     0910131|\n",
      "|RPRNMLLKNHOFFDA87DA|  南港區|  住家用| 420413.2231404959|     0970122|\n",
      "|RPSQMLQJNHOFFCA48CA|  內湖區|  住家用| 497312.3966942149|     0980106|\n",
      "|RPUOMLKKNHOFFAA77CA|  文山區|  住家用| 433930.5785123967|     0970627|\n",
      "|RPROMLTJNHOFFAA28CA|  文山區|  住家用|481355.37190082646|     1001024|\n",
      "+-------------------+--------+--------+------------------+------------+\n",
      "\n"
     ]
    }
   ],
   "source": [
    "df.select(col('編號'),\n",
    "          col('鄉鎮市區'),\n",
    "          col('主要用途'),\n",
    "          (col('單價元平方公尺')*a).alias('單價元坪'),\n",
    "          col('建築完成年月')) \\\n",
    "    .where(col('編號') != 'serial number') \\\n",
    "    .where(col('鄉鎮市區').rlike(expr_taipei)) \\\n",
    "    .where(col('主要用途').rlike(expr_home)) \\\n",
    "    .where(toAD(col('建築完成年月'))>1999) \\\n",
    "    .where((col('單價元平方公尺')*a)>=200000) \\\n",
    "    .where((col('單價元平方公尺')*a)<=500000) \\\n",
    "    .show()"
   ]
  },
  {
   "cell_type": "code",
   "execution_count": 31,
   "metadata": {},
   "outputs": [],
   "source": [
    "spark.stop()"
   ]
  },
  {
   "cell_type": "code",
   "execution_count": null,
   "metadata": {},
   "outputs": [],
   "source": []
  },
  {
   "cell_type": "code",
   "execution_count": null,
   "metadata": {},
   "outputs": [],
   "source": []
  },
  {
   "cell_type": "code",
   "execution_count": null,
   "metadata": {},
   "outputs": [],
   "source": []
  }
 ],
 "metadata": {
  "kernelspec": {
   "display_name": "Python 3",
   "language": "python",
   "name": "python3"
  },
  "language_info": {
   "codemirror_mode": {
    "name": "ipython",
    "version": 3
   },
   "file_extension": ".py",
   "mimetype": "text/x-python",
   "name": "python",
   "nbconvert_exporter": "python",
   "pygments_lexer": "ipython3",
   "version": "3.6.9"
  }
 },
 "nbformat": 4,
 "nbformat_minor": 4
}
