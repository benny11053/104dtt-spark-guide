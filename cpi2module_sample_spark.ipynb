{
 "cells": [
  {
   "cell_type": "code",
   "execution_count": 2,
   "metadata": {},
   "outputs": [],
   "source": [
    "import math\n",
    "from datetime import datetime\n",
    "from pathlib import Path\n",
    "\n",
    "from pyspark.sql import SparkSession\n",
    "import pyspark.sql.functions as F\n",
    "\n",
    "home = Path.home()\n",
    "start = datetime.now()\n",
    "spark = (\n",
    "    SparkSession.builder.appName('demo1')\n",
    "    .master(\"local[*]\")\n",
    "    .config(\"spark.driver.memory\", \"8g\")\n",
    "    .config(\"spark.sql.shuffle.partitions\", 128)\n",
    "    .config(\"spark.default.parallelism\", 16)\n",
    "    .getOrCreate()\n",
    ")"
   ]
  },
  {
   "cell_type": "code",
   "execution_count": 3,
   "metadata": {},
   "outputs": [],
   "source": [
    "assessment_dir = \"./\"\n",
    "# tgu_df = spark.read.parquet(f\"{assessment_dir}/target_user_sample/\").cache()\n",
    "tgu_df = spark.read.parquet(f\"s3a://aws-test-benny/assessment/target_user_sample/\").cache()\n",
    "tgu_df.createOrReplaceTempView(\"target_user_sample\")\n",
    "# cid_df = spark.read.parquet(f\"{assessment_dir}/cid_mapping/\").cache()\n",
    "cid_df = spark.read.parquet(f\"s3a://aws-test-benny/assessment/cid_mapping/\").cache()\n",
    "cid_df.createOrReplaceTempView(\"cid_mapping\")\n",
    "# basic_df = spark.read.parquet(f\"{assessment_dir}/basic/\").cache()\n",
    "basic_df = spark.read.parquet(f\"s3a://aws-test-benny/assessment/basic/\").cache()\n",
    "basic_df.createOrReplaceTempView(\"basic\")\n",
    "# exp_job_df = spark.read.parquet(f\"{assessment_dir}/exp_job/\").cache()\n",
    "exp_job_df = spark.read.parquet(f\"s3a://aws-test-benny/assessment/exp_job/\").cache()\n",
    "exp_job_df.createOrReplaceTempView(\"exp_job\")"
   ]
  },
  {
   "cell_type": "code",
   "execution_count": 4,
   "metadata": {},
   "outputs": [
    {
     "name": "stdout",
     "output_type": "stream",
     "text": [
      "target_user_sample:\n",
      "+---------------+-------------+-------------------+------------+------------+-------------+------------+------------+------------+-------------+------------+------------+------------+------------+------------+------------+------------+-------------+-------------+-------------+------------+-------------+------------+------------+-------------+-------------+------------+------------+------------+------------+-----------+-------------+------------+-----------+-----------+------------+------------+-----------+------------+------------+-------------+-------------+-------------+------------+------------+-------------+------------+------------+------------+------------+------------+------------+------------+-------------+------------+------------+------------+------------+-------------+------------+------------+-------------+-------------+------------+------------+------------+------------+-------------+------------+-------------+-------------+-------------+-------------+------------+------------+------------+-------------+-------------+------------+------------+-----------+------------+------------+-------------+\n",
      "|         tgu_id|         idno|        finish_date|       z_A01|       z_A02|        z_A03|       z_A04|       z_A05|       z_A06|        z_A07|       z_B01|       z_B02|       z_B03|       z_B04|       z_B05|       z_B06|       z_B07|        z_C01|        z_C02|        z_C03|       z_C04|        z_C05|       z_C06|       z_C07|        z_I01|        z_I02|       z_I03|       z_I04|       z_I05|       z_I06|      z_I07|        z_I08|       z_L01|      z_L02|      z_L03|       z_L04|       z_L05|      z_L06|       z_L07|       z_L08|        z_R01|        z_R02|        z_R03|       z_R04|       z_R05|        z_R06|       z_R07|       z_R08|       z_R09|       z_S01|       z_S02|       z_S03|       z_S04|        z_S05|       z_S06|       z_S07|       z_D01|       z_D02|        z_D03|       z_D04|       z_D05|        z_D06|        z_D07|       z_D08|       z_D09|       z_D10|       z_D11|        z_D12|       z_D13|        z_D14|        z_D15|        z_D16|        z_D17|       z_D18|       z_D19|       z_D20|        z_D21|        z_D22|       z_D23|       z_D24|      z_D25|       z_D26|       z_D27|        z_D28|\n",
      "+---------------+-------------+-------------------+------------+------------+-------------+------------+------------+------------+-------------+------------+------------+------------+------------+------------+------------+------------+-------------+-------------+-------------+------------+-------------+------------+------------+-------------+-------------+------------+------------+------------+------------+-----------+-------------+------------+-----------+-----------+------------+------------+-----------+------------+------------+-------------+-------------+-------------+------------+------------+-------------+------------+------------+------------+------------+------------+------------+------------+-------------+------------+------------+------------+------------+-------------+------------+------------+-------------+-------------+------------+------------+------------+------------+-------------+------------+-------------+-------------+-------------+-------------+------------+------------+------------+-------------+-------------+------------+------------+-----------+------------+------------+-------------+\n",
      "|153558386686833|1730185763433|2012-07-17 23:37:29|0.1616299424|0.7688112541|-0.1269327189|0.0596262953|0.4081030452|0.2191764216|-0.8852507018|0.7668053367|0.4893593364|0.2343025006|0.1314713747|1.4804594895|0.1007616111|0.3962913222|-0.4254965082|-0.1872381677|-0.6383602028|0.2697034113|-0.6546789063|0.5181441276|0.4250694514|-0.0533494501|-0.0312924086|0.0725254588|0.3504534879|0.3990399481|0.0714210197|0.087746595|-0.0051812398|0.0030545973|0.059650382|0.192152329|0.4396541948|0.2740876218|0.089923743|0.2483424309|0.7975557606|-0.0247447266|-0.1772933829|-0.3868707661|-0.448659601|0.0809904127|-0.4763652771|0.0658300474|0.4142324087|0.0572699207|0.0487688511|0.3517622995|0.1073783062|0.0334436351|-0.0775143789|0.0870463306|0.0407397332|1.8364995945|0.3343796894|-1.9479128642|1.3879491195|0.9722006576|-0.9079581512|-0.0813172445|0.8303204679|-0.128000669|1.4398078363|0.6661501078|-0.7615853544|0.1474586501|-0.1061493165|-0.6879086518|-0.5474541819|-0.3371210682|0.9997042259|1.1915024134|0.8638491309|-0.8025788326|-0.1215510998|2.1162985713|0.4685520943|0.652830596|0.1162830471|0.6561016286|-0.0482407317|\n",
      "+---------------+-------------+-------------------+------------+------------+-------------+------------+------------+------------+-------------+------------+------------+------------+------------+------------+------------+------------+-------------+-------------+-------------+------------+-------------+------------+------------+-------------+-------------+------------+------------+------------+------------+-----------+-------------+------------+-----------+-----------+------------+------------+-----------+------------+------------+-------------+-------------+-------------+------------+------------+-------------+------------+------------+------------+------------+------------+------------+------------+-------------+------------+------------+------------+------------+-------------+------------+------------+-------------+-------------+------------+------------+------------+------------+-------------+------------+-------------+-------------+-------------+-------------+------------+------------+------------+-------------+-------------+------------+------------+-----------+------------+------------+-------------+\n",
      "only showing top 1 row\n",
      "\n",
      "root\n",
      " |-- tgu_id: long (nullable = true)\n",
      " |-- idno: long (nullable = true)\n",
      " |-- finish_date: timestamp (nullable = true)\n",
      " |-- z_A01: double (nullable = true)\n",
      " |-- z_A02: double (nullable = true)\n",
      " |-- z_A03: double (nullable = true)\n",
      " |-- z_A04: double (nullable = true)\n",
      " |-- z_A05: double (nullable = true)\n",
      " |-- z_A06: double (nullable = true)\n",
      " |-- z_A07: double (nullable = true)\n",
      " |-- z_B01: double (nullable = true)\n",
      " |-- z_B02: double (nullable = true)\n",
      " |-- z_B03: double (nullable = true)\n",
      " |-- z_B04: double (nullable = true)\n",
      " |-- z_B05: double (nullable = true)\n",
      " |-- z_B06: double (nullable = true)\n",
      " |-- z_B07: double (nullable = true)\n",
      " |-- z_C01: double (nullable = true)\n",
      " |-- z_C02: double (nullable = true)\n",
      " |-- z_C03: double (nullable = true)\n",
      " |-- z_C04: double (nullable = true)\n",
      " |-- z_C05: double (nullable = true)\n",
      " |-- z_C06: double (nullable = true)\n",
      " |-- z_C07: double (nullable = true)\n",
      " |-- z_I01: double (nullable = true)\n",
      " |-- z_I02: double (nullable = true)\n",
      " |-- z_I03: double (nullable = true)\n",
      " |-- z_I04: double (nullable = true)\n",
      " |-- z_I05: double (nullable = true)\n",
      " |-- z_I06: double (nullable = true)\n",
      " |-- z_I07: double (nullable = true)\n",
      " |-- z_I08: double (nullable = true)\n",
      " |-- z_L01: double (nullable = true)\n",
      " |-- z_L02: double (nullable = true)\n",
      " |-- z_L03: double (nullable = true)\n",
      " |-- z_L04: double (nullable = true)\n",
      " |-- z_L05: double (nullable = true)\n",
      " |-- z_L06: double (nullable = true)\n",
      " |-- z_L07: double (nullable = true)\n",
      " |-- z_L08: double (nullable = true)\n",
      " |-- z_R01: double (nullable = true)\n",
      " |-- z_R02: double (nullable = true)\n",
      " |-- z_R03: double (nullable = true)\n",
      " |-- z_R04: double (nullable = true)\n",
      " |-- z_R05: double (nullable = true)\n",
      " |-- z_R06: double (nullable = true)\n",
      " |-- z_R07: double (nullable = true)\n",
      " |-- z_R08: double (nullable = true)\n",
      " |-- z_R09: double (nullable = true)\n",
      " |-- z_S01: double (nullable = true)\n",
      " |-- z_S02: double (nullable = true)\n",
      " |-- z_S03: double (nullable = true)\n",
      " |-- z_S04: double (nullable = true)\n",
      " |-- z_S05: double (nullable = true)\n",
      " |-- z_S06: double (nullable = true)\n",
      " |-- z_S07: double (nullable = true)\n",
      " |-- z_D01: double (nullable = true)\n",
      " |-- z_D02: double (nullable = true)\n",
      " |-- z_D03: double (nullable = true)\n",
      " |-- z_D04: double (nullable = true)\n",
      " |-- z_D05: double (nullable = true)\n",
      " |-- z_D06: double (nullable = true)\n",
      " |-- z_D07: double (nullable = true)\n",
      " |-- z_D08: double (nullable = true)\n",
      " |-- z_D09: double (nullable = true)\n",
      " |-- z_D10: double (nullable = true)\n",
      " |-- z_D11: double (nullable = true)\n",
      " |-- z_D12: double (nullable = true)\n",
      " |-- z_D13: double (nullable = true)\n",
      " |-- z_D14: double (nullable = true)\n",
      " |-- z_D15: double (nullable = true)\n",
      " |-- z_D16: double (nullable = true)\n",
      " |-- z_D17: double (nullable = true)\n",
      " |-- z_D18: double (nullable = true)\n",
      " |-- z_D19: double (nullable = true)\n",
      " |-- z_D20: double (nullable = true)\n",
      " |-- z_D21: double (nullable = true)\n",
      " |-- z_D22: double (nullable = true)\n",
      " |-- z_D23: double (nullable = true)\n",
      " |-- z_D24: double (nullable = true)\n",
      " |-- z_D25: double (nullable = true)\n",
      " |-- z_D26: double (nullable = true)\n",
      " |-- z_D27: double (nullable = true)\n",
      " |-- z_D28: double (nullable = true)\n",
      "\n",
      "765621\n",
      "===================\n",
      "cid_mapping:\n",
      "+---+--------+--------------------------+--------------------------+-----------+-----------+\n",
      "|cid| invoice|             mdm_comp_name|             pro_comp_name|industry_id|create_date|\n",
      "+---+--------+--------------------------+--------------------------+-----------+-----------+\n",
      "|  9|84598349|一零四資訊科技股份有限公司|一零四資訊科技股份有限公司| 1001001003| 2020-11-11|\n",
      "+---+--------+--------------------------+--------------------------+-----------+-----------+\n",
      "only showing top 1 row\n",
      "\n",
      "root\n",
      " |-- cid: long (nullable = true)\n",
      " |-- invoice: integer (nullable = true)\n",
      " |-- mdm_comp_name: string (nullable = true)\n",
      " |-- pro_comp_name: string (nullable = true)\n",
      " |-- industry_id: integer (nullable = true)\n",
      " |-- create_date: date (nullable = true)\n",
      "\n",
      "45435\n",
      "===================\n",
      "basic:\n",
      "+-------------+-------------------+\n",
      "|        id_no|        update_date|\n",
      "+-------------+-------------------+\n",
      "|1813136421615|1900-01-01 00:00:00|\n",
      "+-------------+-------------------+\n",
      "only showing top 1 row\n",
      "\n",
      "root\n",
      " |-- id_no: long (nullable = true)\n",
      " |-- update_date: timestamp (nullable = true)\n",
      "\n",
      "8173047\n",
      "===================\n",
      "exp_job:\n",
      "+---------+-------------+--------+----------+----------+-------------------+-------------------+\n",
      "|     pkey|        id_no| invoice|ind_cat_no|job_cat_no|         start_date|           end_date|\n",
      "+---------+-------------+--------+----------+----------+-------------------+-------------------+\n",
      "|402685881|1747932657183|23572557|1001004001|2001001001|1940-03-01 00:00:00|1998-03-01 00:00:00|\n",
      "+---------+-------------+--------+----------+----------+-------------------+-------------------+\n",
      "only showing top 1 row\n",
      "\n",
      "root\n",
      " |-- pkey: long (nullable = true)\n",
      " |-- id_no: long (nullable = true)\n",
      " |-- invoice: string (nullable = true)\n",
      " |-- ind_cat_no: long (nullable = true)\n",
      " |-- job_cat_no: long (nullable = true)\n",
      " |-- start_date: timestamp (nullable = true)\n",
      " |-- end_date: timestamp (nullable = true)\n",
      "\n",
      "18142840\n",
      "===================\n"
     ]
    }
   ],
   "source": [
    "print(\"target_user_sample:\")\n",
    "tgu_df.show(1)\n",
    "tgu_df.printSchema()\n",
    "print(tgu_df.count())\n",
    "print(\"===================\")\n",
    "print(\"cid_mapping:\")\n",
    "cid_df.show(1)\n",
    "cid_df.printSchema()\n",
    "print(cid_df.count())\n",
    "print(\"===================\")\n",
    "print(\"basic:\")\n",
    "basic_df.show(1)\n",
    "basic_df.printSchema()\n",
    "print(basic_df.count())\n",
    "print(\"===================\")\n",
    "print(\"exp_job:\")\n",
    "exp_job_df.show(1)\n",
    "exp_job_df.printSchema()\n",
    "print(exp_job_df.count())\n",
    "print(\"===================\")"
   ]
  },
  {
   "cell_type": "code",
   "execution_count": 4,
   "metadata": {},
   "outputs": [],
   "source": [
    "# # display_fields = closed_fin_date_tgu_df.columns\n",
    "display_fields = (\"tgu_id\", \"idno\", \"cid\", \"invoice\", \"industry_id\", \"position_id\", \"sm\", \"sy\", \"finish_date\", \"z_D01\", \"z_A01\")\n",
    "# print(display_fields)\n",
    "# for row in closed_fin_date_tgu_df.collect()[:10]:\n",
    "#     print([row[col] for col in display_fields])"
   ]
  },
  {
   "cell_type": "code",
   "execution_count": 5,
   "metadata": {},
   "outputs": [
    {
     "name": "stdout",
     "output_type": "stream",
     "text": [
      "Length of z fields: 81\n",
      "['tgu_id', 'idno', 'cid', 'invoice', 'industry_id', 'position_id', 'sm', 'sy', 'finish_date', 'z_A01', 'z_A02', 'z_A03', 'z_A04', 'z_A05', 'z_A06', 'z_A07', 'z_B01', 'z_B02', 'z_B03', 'z_B04', 'z_B05', 'z_B06', 'z_B07', 'z_C01', 'z_C02', 'z_C03', 'z_C04', 'z_C05', 'z_C06', 'z_C07', 'z_I01', 'z_I02', 'z_I03', 'z_I04', 'z_I05', 'z_I06', 'z_I07', 'z_I08', 'z_L01', 'z_L02', 'z_L03', 'z_L04', 'z_L05', 'z_L06', 'z_L07', 'z_L08', 'z_R01', 'z_R02', 'z_R03', 'z_R04', 'z_R05', 'z_R06', 'z_R07', 'z_R08', 'z_R09', 'z_S01', 'z_S02', 'z_S03', 'z_S04', 'z_S05', 'z_S06', 'z_S07', 'z_D01', 'z_D02', 'z_D03', 'z_D04', 'z_D05', 'z_D06', 'z_D07', 'z_D08', 'z_D09', 'z_D10', 'z_D11', 'z_D12', 'z_D13', 'z_D14', 'z_D15', 'z_D16', 'z_D17', 'z_D18', 'z_D19', 'z_D20', 'z_D21', 'z_D22', 'z_D23', 'z_D24', 'z_D25', 'z_D26', 'z_D27', 'z_D28']\n"
     ]
    }
   ],
   "source": [
    "dms_ids_c = {\n",
    "    \"A\": 7,\n",
    "    \"B\": 7,\n",
    "    \"C\": 7,\n",
    "    \"I\": 8,\n",
    "    \"L\": 8,\n",
    "    \"R\": 9,\n",
    "    \"S\": 7,\n",
    "}\n",
    "dms_p_count = 28\n",
    "\n",
    "z_fields = [f\"z_{prefix}{str(num).zfill(2)}\" for prefix, max_num in dms_ids_c.items() for num in range(1, max_num + 1)]\n",
    "z_fields += [f\"z_D{str(num).zfill(2)}\" for num in range(1, dms_p_count + 1)]\n",
    "print(f\"Length of z fields: {len(z_fields)}\")\n",
    "z_fields_str = \", \".join(z_fields)\n",
    "\n",
    "sample_fields = f\"tgu_id, idno, cid, invoice, industry_id, position_id, sm, sy, finish_date, {z_fields_str}\".split(\", \")\n",
    "print(sample_fields)"
   ]
  },
  {
   "cell_type": "code",
   "execution_count": 6,
   "metadata": {},
   "outputs": [],
   "source": [
    "# query = \"\"\"\n",
    "#     SELECT idno, count(*) AS count\n",
    "#     FROM target_user_sample\n",
    "#     WHERE idno > 0\n",
    "#     GROUP BY idno\n",
    "#     ORDER BY idno\n",
    "# \"\"\"\n",
    "# tgu_df = spark.sql(query).cache()\n",
    "# print(tgu_df.count())\n",
    "# idnos = tuple(row[\"idno\"] for row in tgu_df.collect())\n",
    "# print(idnos[:10])"
   ]
  },
  {
   "cell_type": "code",
   "execution_count": 7,
   "metadata": {},
   "outputs": [
    {
     "name": "stdout",
     "output_type": "stream",
     "text": [
      "['tgu_id', 'idno', 'pkey', 'invoice', 'ind_cat_no', 'job_cat_no', 'start_date', 'end_date', 'finish_date', 'z_A01', 'z_A02', 'z_A03', 'z_A04', 'z_A05', 'z_A06', 'z_A07', 'z_B01', 'z_B02', 'z_B03', 'z_B04', 'z_B05', 'z_B06', 'z_B07', 'z_C01', 'z_C02', 'z_C03', 'z_C04', 'z_C05', 'z_C06', 'z_C07', 'z_I01', 'z_I02', 'z_I03', 'z_I04', 'z_I05', 'z_I06', 'z_I07', 'z_I08', 'z_L01', 'z_L02', 'z_L03', 'z_L04', 'z_L05', 'z_L06', 'z_L07', 'z_L08', 'z_R01', 'z_R02', 'z_R03', 'z_R04', 'z_R05', 'z_R06', 'z_R07', 'z_R08', 'z_R09', 'z_S01', 'z_S02', 'z_S03', 'z_S04', 'z_S05', 'z_S06', 'z_S07', 'z_D01', 'z_D02', 'z_D03', 'z_D04', 'z_D05', 'z_D06', 'z_D07', 'z_D08', 'z_D09', 'z_D10', 'z_D11', 'z_D12', 'z_D13', 'z_D14', 'z_D15', 'z_D16', 'z_D17', 'z_D18', 'z_D19', 'z_D20', 'z_D21', 'z_D22', 'z_D23', 'z_D24', 'z_D25', 'z_D26', 'z_D27', 'z_D28']\n",
      "2467412\n"
     ]
    }
   ],
   "source": [
    "exp_job_fields = []\n",
    "for col in exp_job_df.columns:\n",
    "    if col == \"id_no\":\n",
    "        continue\n",
    "    else:\n",
    "        if col == \"invoice\":\n",
    "            exp_job_fields.append(f\"CAST(exp.{col} AS INT)\")\n",
    "        else:\n",
    "            exp_job_fields.append(f\"exp.{col}\")\n",
    "exp_str = \", \".join(exp_job_fields)\n",
    "tgu_z_fields_str = \", \".join(f\"tgu.{z_field} AS {z_field}\" for z_field in z_fields)\n",
    "query = f\"\"\"\n",
    "    SELECT\n",
    "        tgu.tgu_id,\n",
    "        tgu.idno,\n",
    "        {exp_str},\n",
    "        tgu.finish_date,\n",
    "        {tgu_z_fields_str}\n",
    "    FROM exp_job AS exp\n",
    "    INNER JOIN target_user_sample AS tgu ON exp.id_no = tgu.idno\n",
    "    WHERE tgu.idno IS NOT NULL AND (exp.ind_cat_no > 0 OR exp.job_cat_no > 0)\n",
    "\"\"\"\n",
    "#     WHERE tgu.idno IS NOT NULL AND tgu.idno IN {idnos}\n",
    "# tgu.idno = 20000000181924\n",
    "# exp.id_no = 1670005990833\n",
    "# tgu.idno = 1670002970809\n",
    "# tgu.idno = 1673866050855\n",
    "# the same data idno 1812400542207\n",
    "exp_tgu_df = spark.sql(query).cache()\n",
    "# exp_tgu_df.show(2)\n",
    "# exp_tgu_df.printSchema()\n",
    "print(exp_tgu_df.columns)\n",
    "print(exp_tgu_df.count())\n",
    "exp_tgu_df.createOrReplaceTempView(\"exp_tgu_df\")"
   ]
  },
  {
   "cell_type": "code",
   "execution_count": 8,
   "metadata": {},
   "outputs": [
    {
     "name": "stdout",
     "output_type": "stream",
     "text": [
      "['tgu_id', 'idno', 'pkey', 'invoice', 'ind_cat_no', 'job_cat_no', 'start_date', 'end_date', 'finish_date', 'z_A01', 'z_A02', 'z_A03', 'z_A04', 'z_A05', 'z_A06', 'z_A07', 'z_B01', 'z_B02', 'z_B03', 'z_B04', 'z_B05', 'z_B06', 'z_B07', 'z_C01', 'z_C02', 'z_C03', 'z_C04', 'z_C05', 'z_C06', 'z_C07', 'z_I01', 'z_I02', 'z_I03', 'z_I04', 'z_I05', 'z_I06', 'z_I07', 'z_I08', 'z_L01', 'z_L02', 'z_L03', 'z_L04', 'z_L05', 'z_L06', 'z_L07', 'z_L08', 'z_R01', 'z_R02', 'z_R03', 'z_R04', 'z_R05', 'z_R06', 'z_R07', 'z_R08', 'z_R09', 'z_S01', 'z_S02', 'z_S03', 'z_S04', 'z_S05', 'z_S06', 'z_S07', 'z_D01', 'z_D02', 'z_D03', 'z_D04', 'z_D05', 'z_D06', 'z_D07', 'z_D08', 'z_D09', 'z_D10', 'z_D11', 'z_D12', 'z_D13', 'z_D14', 'z_D15', 'z_D16', 'z_D17', 'z_D18', 'z_D19', 'z_D20', 'z_D21', 'z_D22', 'z_D23', 'z_D24', 'z_D25', 'z_D26', 'z_D27', 'z_D28', 'update_date']\n",
      "2467412\n"
     ]
    }
   ],
   "source": [
    "exp_tgu_str = \", \".join(f\"et.{col}\" for col in exp_tgu_df.columns)\n",
    "# et_z_fields_str = \", \".join(f\"et.{z_field} AS {z_field}\" for z_field in z_fields)\n",
    "query = f\"\"\"\n",
    "    SELECT\n",
    "        {exp_tgu_str},\n",
    "        b.update_date\n",
    "    FROM exp_tgu_df AS et\n",
    "    INNER JOIN basic AS b ON et.idno = b.id_no\n",
    "\"\"\"\n",
    "exp_tgu_basic_df = spark.sql(query).cache()\n",
    "# exp_tgu_basic_df.show()\n",
    "print(exp_tgu_basic_df.columns)\n",
    "print(exp_tgu_basic_df.count())\n",
    "exp_tgu_basic_df.createOrReplaceTempView(\"exp_tgu_basic_df\")"
   ]
  },
  {
   "cell_type": "code",
   "execution_count": 9,
   "metadata": {},
   "outputs": [
    {
     "name": "stdout",
     "output_type": "stream",
     "text": [
      "+-----+-------+------+\n",
      "|  cid|invoice|row_no|\n",
      "+-----+-------+------+\n",
      "|57082| 971770|     1|\n",
      "|66918|1187025|     1|\n",
      "|60748|2335002|     1|\n",
      "+-----+-------+------+\n",
      "only showing top 3 rows\n",
      "\n"
     ]
    }
   ],
   "source": [
    "query = f\"\"\"\n",
    "    SELECT\n",
    "        cid, invoice, row_no\n",
    "    FROM (\n",
    "        SELECT *, ROW_NUMBER() OVER (PARTITION BY invoice ORDER BY cid) AS row_no\n",
    "        FROM cid_mapping\n",
    "    ) AS cid\n",
    "    WHERE row_no = 1\n",
    "\"\"\"\n",
    "cid_df = spark.sql(query)\n",
    "cid_df.show(3)\n",
    "cid_df.createOrReplaceTempView(\"cid_df\")"
   ]
  },
  {
   "cell_type": "code",
   "execution_count": 10,
   "metadata": {},
   "outputs": [
    {
     "name": "stdout",
     "output_type": "stream",
     "text": [
      "['tgu_id', 'idno', 'pkey', 'invoice', 'ind_cat_no', 'job_cat_no', 'start_date', 'end_date', 'finish_date', 'z_A01', 'z_A02', 'z_A03', 'z_A04', 'z_A05', 'z_A06', 'z_A07', 'z_B01', 'z_B02', 'z_B03', 'z_B04', 'z_B05', 'z_B06', 'z_B07', 'z_C01', 'z_C02', 'z_C03', 'z_C04', 'z_C05', 'z_C06', 'z_C07', 'z_I01', 'z_I02', 'z_I03', 'z_I04', 'z_I05', 'z_I06', 'z_I07', 'z_I08', 'z_L01', 'z_L02', 'z_L03', 'z_L04', 'z_L05', 'z_L06', 'z_L07', 'z_L08', 'z_R01', 'z_R02', 'z_R03', 'z_R04', 'z_R05', 'z_R06', 'z_R07', 'z_R08', 'z_R09', 'z_S01', 'z_S02', 'z_S03', 'z_S04', 'z_S05', 'z_S06', 'z_S07', 'z_D01', 'z_D02', 'z_D03', 'z_D04', 'z_D05', 'z_D06', 'z_D07', 'z_D08', 'z_D09', 'z_D10', 'z_D11', 'z_D12', 'z_D13', 'z_D14', 'z_D15', 'z_D16', 'z_D17', 'z_D18', 'z_D19', 'z_D20', 'z_D21', 'z_D22', 'z_D23', 'z_D24', 'z_D25', 'z_D26', 'z_D27', 'z_D28', 'update_date', 'cid']\n"
     ]
    }
   ],
   "source": [
    "exp_tgu_basic_str = \", \".join(f\"etb.{col} AS {col}\" for col in exp_tgu_basic_df.columns)\n",
    "# etb_z_fields_str = \", \".join(f\"etb.{z_field} AS {z_field}\" for z_field in z_fields)\n",
    "# print(etb_z_fields_str)\n",
    "query = f\"\"\"\n",
    "    SELECT\n",
    "        {exp_tgu_basic_str},\n",
    "        CASE WHEN cid.cid IS NULL OR cid.invoice = 0 THEN 0 ELSE cid.cid END AS cid\n",
    "    FROM exp_tgu_basic_df AS etb\n",
    "    LEFT JOIN cid_df AS cid ON etb.invoice = cid.invoice\n",
    "\"\"\"\n",
    "joined_df = spark.sql(query).cache()\n",
    "# joined_df.where(F.col(\"invoice\") == 0).show()\n",
    "print(joined_df.columns)\n",
    "joined_df.createOrReplaceTempView(\"module_cpi_sample\")"
   ]
  },
  {
   "cell_type": "code",
   "execution_count": 11,
   "metadata": {},
   "outputs": [
    {
     "name": "stdout",
     "output_type": "stream",
     "text": [
      "['pkey', 'tgu_id', 'idno', 'cid', 'invoice', 'industry_id', 'position_id', 'finish_date', 'start_date', 'end_date', 'final_end_date', 'sm', 'z_A01', 'z_A02', 'z_A03', 'z_A04', 'z_A05', 'z_A06', 'z_A07', 'z_B01', 'z_B02', 'z_B03', 'z_B04', 'z_B05', 'z_B06', 'z_B07', 'z_C01', 'z_C02', 'z_C03', 'z_C04', 'z_C05', 'z_C06', 'z_C07', 'z_I01', 'z_I02', 'z_I03', 'z_I04', 'z_I05', 'z_I06', 'z_I07', 'z_I08', 'z_L01', 'z_L02', 'z_L03', 'z_L04', 'z_L05', 'z_L06', 'z_L07', 'z_L08', 'z_R01', 'z_R02', 'z_R03', 'z_R04', 'z_R05', 'z_R06', 'z_R07', 'z_R08', 'z_R09', 'z_S01', 'z_S02', 'z_S03', 'z_S04', 'z_S05', 'z_S06', 'z_S07', 'z_D01', 'z_D02', 'z_D03', 'z_D04', 'z_D05', 'z_D06', 'z_D07', 'z_D08', 'z_D09', 'z_D10', 'z_D11', 'z_D12', 'z_D13', 'z_D14', 'z_D15', 'z_D16', 'z_D17', 'z_D18', 'z_D19', 'z_D20', 'z_D21', 'z_D22', 'z_D23', 'z_D24', 'z_D25', 'z_D26', 'z_D27', 'z_D28']\n",
      "2467412\n"
     ]
    }
   ],
   "source": [
    "query = f\"\"\"\n",
    "    SELECT\n",
    "        pkey, tgu_id, idno, cid, invoice, industry_id, position_id, finish_date,\n",
    "        start_date,\n",
    "        end_date,\n",
    "        final_end_date,\n",
    "        12 * (YEAR(final_end_date) - YEAR(start_date)) + MONTH(final_end_date) - MONTH(start_date) AS sm,\n",
    "        {z_fields_str}\n",
    "    FROM (\n",
    "        SELECT\n",
    "            pkey, tgu_id, idno, invoice, cid, ind_cat_no AS industry_id, job_cat_no AS position_id, finish_date,\n",
    "            start_date,\n",
    "            end_date,\n",
    "            CASE WHEN TO_UNIX_TIMESTAMP(start_date) < TO_UNIX_TIMESTAMP(end_date)\n",
    "                THEN end_date ELSE update_date\n",
    "            END AS final_end_date,\n",
    "            {z_fields_str}\n",
    "        FROM module_cpi_sample\n",
    "    )\n",
    "\"\"\"\n",
    "end_date_df = spark.sql(query).cache()\n",
    "# end_date_df.show()\n",
    "print(end_date_df.columns)\n",
    "print(end_date_df.count())\n",
    "end_date_df.createOrReplaceTempView(\"end_date_df\")"
   ]
  },
  {
   "cell_type": "code",
   "execution_count": 12,
   "metadata": {},
   "outputs": [
    {
     "name": "stdout",
     "output_type": "stream",
     "text": [
      "['pkey', 'tgu_id', 'idno', 'invoice', 'cid', 'industry_id', 'position_id', 'finish_date', 'start_date', 'end_date', 'final_end_date', 'sm', 'z_A01', 'z_A02', 'z_A03', 'z_A04', 'z_A05', 'z_A06', 'z_A07', 'z_B01', 'z_B02', 'z_B03', 'z_B04', 'z_B05', 'z_B06', 'z_B07', 'z_C01', 'z_C02', 'z_C03', 'z_C04', 'z_C05', 'z_C06', 'z_C07', 'z_I01', 'z_I02', 'z_I03', 'z_I04', 'z_I05', 'z_I06', 'z_I07', 'z_I08', 'z_L01', 'z_L02', 'z_L03', 'z_L04', 'z_L05', 'z_L06', 'z_L07', 'z_L08', 'z_R01', 'z_R02', 'z_R03', 'z_R04', 'z_R05', 'z_R06', 'z_R07', 'z_R08', 'z_R09', 'z_S01', 'z_S02', 'z_S03', 'z_S04', 'z_S05', 'z_S06', 'z_S07', 'z_D01', 'z_D02', 'z_D03', 'z_D04', 'z_D05', 'z_D06', 'z_D07', 'z_D08', 'z_D09', 'z_D10', 'z_D11', 'z_D12', 'z_D13', 'z_D14', 'z_D15', 'z_D16', 'z_D17', 'z_D18', 'z_D19', 'z_D20', 'z_D21', 'z_D22', 'z_D23', 'z_D24', 'z_D25', 'z_D26', 'z_D27', 'z_D28']\n",
      "2467412\n"
     ]
    }
   ],
   "source": [
    "query = f\"\"\"\n",
    "    SELECT\n",
    "        pkey, tgu_id, idno, invoice, cid, industry_id, position_id, finish_date,\n",
    "        start_date, end_date, final_end_date,\n",
    "        CASE WHEN sm > 750 THEN 750 ELSE sm END AS sm,\n",
    "        {z_fields_str}\n",
    "    FROM end_date_df\n",
    "\"\"\"\n",
    "limit_sm_df = spark.sql(query).cache()\n",
    "# limit_sm_df.show()\n",
    "print(limit_sm_df.columns)\n",
    "print(limit_sm_df.count())\n",
    "limit_sm_df.createOrReplaceTempView(\"limit_sm_df\")"
   ]
  },
  {
   "cell_type": "code",
   "execution_count": null,
   "metadata": {},
   "outputs": [],
   "source": [
    "query = f\"\"\"\n",
    "    SELECT\n",
    "        pkey, tgu_id, idno, cid, invoice, industry_id, position_id, finish_date,\n",
    "        start_date, end_date, final_end_date,\n",
    "        sm,\n",
    "        CASE WHEN TO_UNIX_TIMESTAMP(start_date) < TO_UNIX_TIMESTAMP(end_date)\n",
    "            THEN CASE WHEN sm == 0 THEN ROUND(2 + LOG2(0.5/3), 10) ELSE ROUND(2 + LOG2(sm/3), 10) END\n",
    "            ELSE -9.9999999999\n",
    "        END AS sy,\n",
    "        {z_fields_str}\n",
    "    FROM limit_sm_df\n",
    "\"\"\"\n",
    "sy_df = spark.sql(query).cache()\n",
    "# print(sy_df.columns)\n",
    "# print(sy_df.count())\n",
    "sy_df.createOrReplaceTempView(\"sy_df\")"
   ]
  },
  {
   "cell_type": "code",
   "execution_count": 14,
   "metadata": {},
   "outputs": [
    {
     "name": "stdout",
     "output_type": "stream",
     "text": [
      "['tgu_id', 'idno', 'cid', 'invoice', 'industry_id', 'position_id', 'sm', 'sy', 'finish_date', 'z_A01', 'z_A02', 'z_A03', 'z_A04', 'z_A05', 'z_A06', 'z_A07', 'z_B01', 'z_B02', 'z_B03', 'z_B04', 'z_B05', 'z_B06', 'z_B07', 'z_C01', 'z_C02', 'z_C03', 'z_C04', 'z_C05', 'z_C06', 'z_C07', 'z_I01', 'z_I02', 'z_I03', 'z_I04', 'z_I05', 'z_I06', 'z_I07', 'z_I08', 'z_L01', 'z_L02', 'z_L03', 'z_L04', 'z_L05', 'z_L06', 'z_L07', 'z_L08', 'z_R01', 'z_R02', 'z_R03', 'z_R04', 'z_R05', 'z_R06', 'z_R07', 'z_R08', 'z_R09', 'z_S01', 'z_S02', 'z_S03', 'z_S04', 'z_S05', 'z_S06', 'z_S07', 'z_D01', 'z_D02', 'z_D03', 'z_D04', 'z_D05', 'z_D06', 'z_D07', 'z_D08', 'z_D09', 'z_D10', 'z_D11', 'z_D12', 'z_D13', 'z_D14', 'z_D15', 'z_D16', 'z_D17', 'z_D18', 'z_D19', 'z_D20', 'z_D21', 'z_D22', 'z_D23', 'z_D24', 'z_D25', 'z_D26', 'z_D27', 'z_D28']\n",
      "2214509\n"
     ]
    }
   ],
   "source": [
    "query = f\"\"\"\n",
    "    SELECT\n",
    "        tgu_id, idno, cid, invoice, industry_id, position_id,\n",
    "        sm, sy,\n",
    "        finish_date,\n",
    "        {z_fields_str}\n",
    "    FROM (\n",
    "        SELECT\n",
    "            *,\n",
    "            ROW_NUMBER() OVER (\n",
    "                PARTITION BY pkey\n",
    "                ORDER BY (\n",
    "                    ABS((TO_UNIX_TIMESTAMP(start_date) + TO_UNIX_TIMESTAMP(final_end_date)) / 2 - TO_UNIX_TIMESTAMP(finish_date))\n",
    "                )\n",
    "            ) AS tgu_no\n",
    "        FROM sy_df\n",
    "    )\n",
    "    WHERE tgu_no = 1\n",
    "    ORDER BY tgu_id, idno, cid, invoice, industry_id, position_id, sm, sy\n",
    "\"\"\"\n",
    "closed_fin_date_tgu_df = spark.sql(query).cache()\n",
    "# closed_fin_date_tgu_df.show()\n",
    "print(closed_fin_date_tgu_df.columns)\n",
    "print(closed_fin_date_tgu_df.count())"
   ]
  },
  {
   "cell_type": "code",
   "execution_count": 15,
   "metadata": {},
   "outputs": [
    {
     "name": "stdout",
     "output_type": "stream",
     "text": [
      "completed in 0:03:34.825184\n"
     ]
    }
   ],
   "source": [
    "closed_fin_date_tgu_df.write.parquet(f\"{assessment_dir}/sample_data_spark/\")\n",
    "end = datetime.now()\n",
    "print(f\"completed in {end - start}\")"
   ]
  },
  {
   "cell_type": "code",
   "execution_count": null,
   "metadata": {},
   "outputs": [],
   "source": [
    "query = \"\"\"\n",
    "    SELECT *\n",
    "    FROM sy_df\n",
    "    ORDER BY idno, invoice, cid, industry_id, position_id, sm, finish_date\n",
    "\"\"\"\n",
    "closed_fin_date_tgu_df2 = spark.sql(query).cache()\n",
    "print(closed_fin_date_tgu_df2.columns)"
   ]
  },
  {
   "cell_type": "code",
   "execution_count": 106,
   "metadata": {
    "collapsed": true,
    "jupyter": {
     "outputs_hidden": true
    }
   },
   "outputs": [
    {
     "name": "stdout",
     "output_type": "stream",
     "text": [
      "[153554308426626, 1673866050855, 0, 0, 1001001002, 2007001004, 11, 3.8744691179, datetime.datetime(2012, 8, 16, 20, 30, 52), 0.7651318809, 0.7863538188]\n",
      "[153554308426626, 1673866050855, 0, 0, 1001001002, 2007001004, 11, 3.8744691179, datetime.datetime(2012, 8, 16, 20, 30, 52), 0.7651318809, 0.7863538188]\n",
      "[153554308426626, 1673866050855, 0, 0, 1001001002, 2007001004, 11, 3.8744691179, datetime.datetime(2012, 8, 16, 20, 30, 52), 0.7651318809, 0.7863538188]\n",
      "[153596007627406, 1673866050855, 0, 0, 1001001002, 2007001004, 11, 3.8744691179, datetime.datetime(2018, 9, 1, 13, 57, 33), 0.7651318809, 0.7952734988]\n",
      "[153596007627406, 1673866050855, 0, 0, 1001001002, 2007001004, 11, 3.8744691179, datetime.datetime(2018, 9, 1, 13, 57, 33), 0.7651318809, 0.7952734988]\n",
      "[153596007627406, 1673866050855, 0, 0, 1001001002, 2007001004, 11, 3.8744691179, datetime.datetime(2018, 9, 1, 13, 57, 33), 0.7651318809, 0.7952734988]\n",
      "[153554308426626, 1673866050855, 0, 0, 1001001002, 2007002006, 35, 5.5443205162, datetime.datetime(2012, 8, 16, 20, 30, 52), 0.7651318809, 0.7863538188]\n",
      "[153596007627406, 1673866050855, 0, 0, 1001001002, 2007002006, 35, 5.5443205162, datetime.datetime(2018, 9, 1, 13, 57, 33), 0.7651318809, 0.7952734988]\n",
      "\n",
      "[153596007627406, 1673866050855, 0, 0, 1001001002, 2007001004, 11, 3.8744691179, datetime.datetime(2018, 9, 1, 13, 57, 33), 0.7651318809, 0.7952734988, 1]\n",
      "[153554308426626, 1673866050855, 0, 0, 1001001002, 2007001004, 11, 3.8744691179, datetime.datetime(2012, 8, 16, 20, 30, 52), 0.7651318809, 0.7863538188, 2]\n",
      "[153596007627406, 1673866050855, 0, 0, 1001001002, 2007001004, 11, 3.8744691179, datetime.datetime(2018, 9, 1, 13, 57, 33), 0.7651318809, 0.7952734988, 1]\n",
      "[153554308426626, 1673866050855, 0, 0, 1001001002, 2007001004, 11, 3.8744691179, datetime.datetime(2012, 8, 16, 20, 30, 52), 0.7651318809, 0.7863538188, 2]\n",
      "[153554308426626, 1673866050855, 0, 0, 1001001002, 2007001004, 11, 3.8744691179, datetime.datetime(2012, 8, 16, 20, 30, 52), 0.7651318809, 0.7863538188, 1]\n",
      "[153596007627406, 1673866050855, 0, 0, 1001001002, 2007001004, 11, 3.8744691179, datetime.datetime(2018, 9, 1, 13, 57, 33), 0.7651318809, 0.7952734988, 2]\n",
      "[153596007627406, 1673866050855, 0, 0, 1001001002, 2007002006, 35, 5.5443205162, datetime.datetime(2018, 9, 1, 13, 57, 33), 0.7651318809, 0.7952734988, 1]\n",
      "[153554308426626, 1673866050855, 0, 0, 1001001002, 2007002006, 35, 5.5443205162, datetime.datetime(2012, 8, 16, 20, 30, 52), 0.7651318809, 0.7863538188, 2]\n"
     ]
    }
   ],
   "source": [
    "fields = display_fields\n",
    "for row in closed_fin_date_tgu_df2.collect():\n",
    "    print([row[field] for field in fields])\n",
    "print()\n",
    "\n",
    "\n",
    "fields = [*display_fields] + [\"tgu_no\"]\n",
    "for row in closed_fin_date_tgu_df.collect():\n",
    "    print([row[field] for field in fields])\n"
   ]
  },
  {
   "cell_type": "code",
   "execution_count": 17,
   "metadata": {},
   "outputs": [],
   "source": [
    "module_cpi_sample_df = spark.read.parquet(f\"{assessment_dir}/module_cpi_sample\").drop(\"mdl_id\").dropDuplicates().cache()\n",
    "module_cpi_sample_df.createOrReplaceTempView(\"module_cpi_sample\")"
   ]
  },
  {
   "cell_type": "code",
   "execution_count": 16,
   "metadata": {},
   "outputs": [],
   "source": [
    "sample_data_spark_df = spark.read.parquet(f\"{assessment_dir}/sample_data_spark\").cache()\n",
    "sample_data_spark_df.createOrReplaceTempView(\"sample_data_spark\")\n",
    "\n",
    "query = f\"\"\"\n",
    "    SELECT *\n",
    "    FROM sample_data_spark\n",
    "    ORDER BY idno, tgu_id, cid, invoice, industry_id, position_id, sm, sy\n",
    "\"\"\"\n",
    "sample_data_df = spark.sql(query).cache()"
   ]
  },
  {
   "cell_type": "code",
   "execution_count": 18,
   "metadata": {},
   "outputs": [],
   "source": [
    "tmp_df = sample_data_df.where(F.col(\"idno\") == 1673866050855)"
   ]
  },
  {
   "cell_type": "code",
   "execution_count": 19,
   "metadata": {},
   "outputs": [
    {
     "name": "stdout",
     "output_type": "stream",
     "text": [
      "[153554308426626, 1673866050855, 0, 0, 1001001002, 2007001004, 11, 3.8744691179, datetime.datetime(2012, 8, 16, 20, 30, 52), 0.7651318809, 0.7863538188]\n",
      "[153596007627406, 1673866050855, 0, 0, 1001001002, 2007001004, 11, 3.8744691179, datetime.datetime(2018, 9, 1, 13, 57, 33), 0.7651318809, 0.7952734988]\n",
      "[153596007627406, 1673866050855, 0, 0, 1001001002, 2007001004, 11, 3.8744691179, datetime.datetime(2018, 9, 1, 13, 57, 33), 0.7651318809, 0.7952734988]\n",
      "[153596007627406, 1673866050855, 0, 0, 1001001002, 2007002006, 35, 5.5443205162, datetime.datetime(2018, 9, 1, 13, 57, 33), 0.7651318809, 0.7952734988]\n"
     ]
    }
   ],
   "source": [
    "for row in tmp_df.collect():\n",
    "    print([row[field] for field in display_fields])"
   ]
  },
  {
   "cell_type": "code",
   "execution_count": 17,
   "metadata": {},
   "outputs": [
    {
     "name": "stdout",
     "output_type": "stream",
     "text": [
      "[153554728684162, 1670001380813, 0, 0, 1005003003, 2002001008, 28, 5.2223924213, datetime.datetime(2015, 10, 12, 16, 6, 24), -0.09196229, 0.5524553681]\n",
      "[153554728684162, 1670001380813, 0, 0, 1007001001, 2016002019, 9, 3.5849625007, datetime.datetime(2015, 10, 12, 16, 6, 24), -0.09196229, 0.5524553681]\n",
      "[153554728684162, 1670001380813, 0, 0, 1007001003, 2006002008, 2, 1.4150374993, datetime.datetime(2015, 10, 12, 16, 6, 24), -0.09196229, 0.5524553681]\n",
      "[153561583918705, 1670001600861, 0, 0, 1006003001, 2004002003, 12, 4.0, datetime.datetime(2014, 7, 16, 13, 17, 40), 0.3365847955, 1.1520673131]\n",
      "[153561583918705, 1670001600861, 0, 0, 1006003001, 2013002015, 10, 3.7369655942, datetime.datetime(2014, 7, 16, 13, 17, 40), 0.3365847955, 1.1520673131]\n",
      "[153561583918705, 1670001600861, 0, 46005176, 1010001004, 2004001005, 7, 3.2223924213, datetime.datetime(2014, 7, 16, 13, 17, 40), 0.3365847955, 1.1520673131]\n",
      "[153561583918705, 1670001600861, 463, 22555003, 1003002016, 2005002004, 4, 2.4150374993, datetime.datetime(2014, 7, 16, 13, 17, 40), 0.3365847955, 1.1520673131]\n",
      "[156358304670055, 1670001780809, 0, 70604019, 1001001001, 2007002006, 5, -9.9999999999, datetime.datetime(2019, 7, 20, 8, 37, 26), 2.0507731372, 2.0108383296]\n",
      "[156358304670055, 1670001780809, 10004, 29046933, 1001001003, 2002001003, 38, 5.6629650127, datetime.datetime(2019, 7, 20, 8, 37, 26), 2.0507731372, 2.0108383296]\n",
      "[156358304670055, 1670001780809, 24128, 12411160, 1016002001, 2011002003, 41, 5.7725895039, datetime.datetime(2019, 7, 20, 8, 37, 26), 2.0507731372, 2.0108383296]\n"
     ]
    }
   ],
   "source": [
    "for row in sample_data_df.take(10):\n",
    "    print([row[field] for field in display_fields])"
   ]
  },
  {
   "cell_type": "code",
   "execution_count": 30,
   "metadata": {},
   "outputs": [
    {
     "name": "stdout",
     "output_type": "stream",
     "text": [
      "['tgu_id', 'idno', 'cid', 'invoice', 'industry_id', 'position_id', 'sm', 'sy', 'finish_date', 'z_A01', 'z_A02', 'z_A03', 'z_A04', 'z_A05', 'z_A06', 'z_A07', 'z_B01', 'z_B02', 'z_B03', 'z_B04', 'z_B05', 'z_B06', 'z_B07', 'z_C01', 'z_C02', 'z_C03', 'z_C04', 'z_C05', 'z_C06', 'z_C07', 'z_I01', 'z_I02', 'z_I03', 'z_I04', 'z_I05', 'z_I06', 'z_I07', 'z_I08', 'z_L01', 'z_L02', 'z_L03', 'z_L04', 'z_L05', 'z_L06', 'z_L07', 'z_L08', 'z_R01', 'z_R02', 'z_R03', 'z_R04', 'z_R05', 'z_R06', 'z_R07', 'z_R08', 'z_R09', 'z_S01', 'z_S02', 'z_S03', 'z_S04', 'z_S05', 'z_S06', 'z_S07', 'z_D01', 'z_D02', 'z_D03', 'z_D04', 'z_D05', 'z_D06', 'z_D07', 'z_D08', 'z_D09', 'z_D10', 'z_D11', 'z_D12', 'z_D13', 'z_D14', 'z_D15', 'z_D16', 'z_D17', 'z_D18', 'z_D19', 'z_D20', 'z_D21', 'z_D22', 'z_D23', 'z_D24', 'z_D25', 'z_D26', 'z_D27', 'z_D28']\n",
      "2201652\n"
     ]
    }
   ],
   "source": [
    "sample_fields = sample_data_df.columns\n",
    "unique_keys = (\"tgu_id\", \"idno\", \"cid\", \"invoice\", \"industry_id\", \"position_id\")\n",
    "\n",
    "query = f\"\"\"\n",
    "    SELECT {\", \".join(sample_fields)}\n",
    "    FROM module_cpi_sample\n",
    "    ORDER BY tgu_id, idno, cid, invoice, industry_id, position_id, sm, sy\n",
    "\"\"\"\n",
    "label_sample_df = spark.sql(query).cache()\n",
    "print(sample_data_df.columns)\n",
    "print(label_sample_df.count())"
   ]
  },
  {
   "cell_type": "code",
   "execution_count": 19,
   "metadata": {},
   "outputs": [],
   "source": [
    "def check_same(row1, row2):\n",
    "    for field in (\"tgu_id\", \"idno\", \"cid\", \"invoice\", \"industry_id\", \"position_id\"):\n",
    "        if row1[field] != row2[field]:\n",
    "            return False\n",
    "    \n",
    "    if row1[\"sm\"] == row2[\"sm\"] and row1[\"sy\"] == row2[\"sy\"]:\n",
    "        print(\"True:\")\n",
    "        print([row1[field] for field in display_fields])\n",
    "        print([row2[field] for field in display_fields])\n",
    "        print(\"------------\")\n",
    "\n",
    "        return True\n",
    "    else:\n",
    "        return False"
   ]
  },
  {
   "cell_type": "code",
   "execution_count": null,
   "metadata": {},
   "outputs": [],
   "source": [
    "take_num = 13000\n",
    "part_row1 = closed_fin_date_tgu_df.take(take_num)\n",
    "part_row2 = label_sample_df.take(take_num)\n",
    "idx1 = 12028\n",
    "idx2 = 12029\n",
    "while idx1 != len(part_row1) and idx2 != len(part_row2):\n",
    "    if idx2 != 0 and check_same(part_row2[idx2-1], part_row2[idx2]):\n",
    "        print(idx1, idx2)\n",
    "        idx2 += 1\n",
    "        continue\n",
    "\n",
    "    for field in display_fields:\n",
    "        if (\n",
    "            part_row1[idx1][field] != part_row2[idx2][field]\n",
    "            and (field != \"sm\" or field == \"sm\" and part_row1[idx1][field] != part_row2[idx2][field] - 1)\n",
    "        ):\n",
    "            print(\"Detect different!!, idx1 -= 1\")\n",
    "            print(f\"idx1: {idx1}, idx2: {idx2}, field: {field}, row1: {part_row1[idx1][field]}, row2: {part_row2[idx2][field]}\")\n",
    "            print([part_row1[idx1][field] for field in display_fields])\n",
    "            print([part_row2[idx2][field] for field in display_fields])\n",
    "            print(\"===========\")\n",
    "            if (\n",
    "                part_row2[idx2][\"idno\"] == 20000000861677\n",
    "                or part_row2[idx2][\"idno\"] == 1683482920833 and part_row2[idx2][\"sy\"] == 4.5025003405\n",
    "#                 or part_row2[idx2][\"idno\"] == 1732895263409 and part_row2[idx2][\"sy\"] == 3.4150374993\n",
    "            ):\n",
    "                idx1 -= 1\n",
    "            break\n",
    "    idx1 += 1\n",
    "    idx2 += 1"
   ]
  },
  {
   "cell_type": "code",
   "execution_count": null,
   "metadata": {},
   "outputs": [],
   "source": []
  }
 ],
 "metadata": {
  "kernelspec": {
   "display_name": "Python 3",
   "language": "python",
   "name": "python3"
  },
  "language_info": {
   "codemirror_mode": {
    "name": "ipython",
    "version": 3
   },
   "file_extension": ".py",
   "mimetype": "text/x-python",
   "name": "python",
   "nbconvert_exporter": "python",
   "pygments_lexer": "ipython3",
   "version": "3.7.6"
  }
 },
 "nbformat": 4,
 "nbformat_minor": 4
}
