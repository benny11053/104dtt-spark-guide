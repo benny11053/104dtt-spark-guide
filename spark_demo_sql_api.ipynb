{
 "cells": [
  {
   "cell_type": "code",
   "execution_count": 1,
   "metadata": {},
   "outputs": [],
   "source": [
    "import math\n",
    "from datetime import datetime\n",
    "from pathlib import Path\n",
    "\n",
    "from pyspark.sql import SparkSession\n",
    "import pyspark.sql.functions as F\n",
    "\n",
    "home = Path.home()\n",
    "start = datetime.now()\n",
    "spark = (\n",
    "    SparkSession.builder.appName('demo1')\n",
    "    .master(\"local[*]\")\n",
    "    .config(\"spark.driver.memory\", \"8g\")\n",
    "    .config(\"spark.sql.shuffle.partitions\", 128)\n",
    "    .config(\"spark.default.parallelism\", 16)\n",
    "    .getOrCreate()\n",
    ")"
   ]
  },
  {
   "cell_type": "code",
   "execution_count": 2,
   "metadata": {},
   "outputs": [],
   "source": [
    "assessment_dir = \"./\"\n",
    "tgu_df = spark.read.parquet(f\"s3a://aws-test-benny/assessment/target_user_sample/\").cache()\n",
    "tgu_df.createOrReplaceTempView(\"target_user_sample\")\n",
    "cid_df = spark.read.parquet(f\"s3a://aws-test-benny/assessment/cid_mapping/\").cache()\n",
    "cid_df.createOrReplaceTempView(\"cid_mapping\")\n",
    "basic_df = spark.read.parquet(f\"s3a://aws-test-benny/assessment/basic/\").cache()\n",
    "basic_df.createOrReplaceTempView(\"basic\")\n",
    "exp_job_df = spark.read.parquet(f\"s3a://aws-test-benny/assessment/exp_job/\").cache()\n",
    "exp_job_df.createOrReplaceTempView(\"exp_job\")"
   ]
  },
  {
   "cell_type": "code",
   "execution_count": 3,
   "metadata": {},
   "outputs": [
    {
     "name": "stdout",
     "output_type": "stream",
     "text": [
      "target_user_sample:\n",
      "+---------------+-------------+-------------------+------------+------------+-------------+------------+------------+------------+-------------+------------+------------+------------+------------+------------+------------+------------+-------------+-------------+-------------+------------+-------------+------------+------------+-------------+-------------+------------+------------+------------+------------+-----------+-------------+------------+-----------+-----------+------------+------------+-----------+------------+------------+-------------+-------------+-------------+------------+------------+-------------+------------+------------+------------+------------+------------+------------+------------+-------------+------------+------------+------------+------------+-------------+------------+------------+-------------+-------------+------------+------------+------------+------------+-------------+------------+-------------+-------------+-------------+-------------+------------+------------+------------+-------------+-------------+------------+------------+-----------+------------+------------+-------------+\n",
      "|         tgu_id|         idno|        finish_date|       z_A01|       z_A02|        z_A03|       z_A04|       z_A05|       z_A06|        z_A07|       z_B01|       z_B02|       z_B03|       z_B04|       z_B05|       z_B06|       z_B07|        z_C01|        z_C02|        z_C03|       z_C04|        z_C05|       z_C06|       z_C07|        z_I01|        z_I02|       z_I03|       z_I04|       z_I05|       z_I06|      z_I07|        z_I08|       z_L01|      z_L02|      z_L03|       z_L04|       z_L05|      z_L06|       z_L07|       z_L08|        z_R01|        z_R02|        z_R03|       z_R04|       z_R05|        z_R06|       z_R07|       z_R08|       z_R09|       z_S01|       z_S02|       z_S03|       z_S04|        z_S05|       z_S06|       z_S07|       z_D01|       z_D02|        z_D03|       z_D04|       z_D05|        z_D06|        z_D07|       z_D08|       z_D09|       z_D10|       z_D11|        z_D12|       z_D13|        z_D14|        z_D15|        z_D16|        z_D17|       z_D18|       z_D19|       z_D20|        z_D21|        z_D22|       z_D23|       z_D24|      z_D25|       z_D26|       z_D27|        z_D28|\n",
      "+---------------+-------------+-------------------+------------+------------+-------------+------------+------------+------------+-------------+------------+------------+------------+------------+------------+------------+------------+-------------+-------------+-------------+------------+-------------+------------+------------+-------------+-------------+------------+------------+------------+------------+-----------+-------------+------------+-----------+-----------+------------+------------+-----------+------------+------------+-------------+-------------+-------------+------------+------------+-------------+------------+------------+------------+------------+------------+------------+------------+-------------+------------+------------+------------+------------+-------------+------------+------------+-------------+-------------+------------+------------+------------+------------+-------------+------------+-------------+-------------+-------------+-------------+------------+------------+------------+-------------+-------------+------------+------------+-----------+------------+------------+-------------+\n",
      "|153558386686833|1730185763433|2012-07-17 23:37:29|0.1616299424|0.7688112541|-0.1269327189|0.0596262953|0.4081030452|0.2191764216|-0.8852507018|0.7668053367|0.4893593364|0.2343025006|0.1314713747|1.4804594895|0.1007616111|0.3962913222|-0.4254965082|-0.1872381677|-0.6383602028|0.2697034113|-0.6546789063|0.5181441276|0.4250694514|-0.0533494501|-0.0312924086|0.0725254588|0.3504534879|0.3990399481|0.0714210197|0.087746595|-0.0051812398|0.0030545973|0.059650382|0.192152329|0.4396541948|0.2740876218|0.089923743|0.2483424309|0.7975557606|-0.0247447266|-0.1772933829|-0.3868707661|-0.448659601|0.0809904127|-0.4763652771|0.0658300474|0.4142324087|0.0572699207|0.0487688511|0.3517622995|0.1073783062|0.0334436351|-0.0775143789|0.0870463306|0.0407397332|1.8364995945|0.3343796894|-1.9479128642|1.3879491195|0.9722006576|-0.9079581512|-0.0813172445|0.8303204679|-0.128000669|1.4398078363|0.6661501078|-0.7615853544|0.1474586501|-0.1061493165|-0.6879086518|-0.5474541819|-0.3371210682|0.9997042259|1.1915024134|0.8638491309|-0.8025788326|-0.1215510998|2.1162985713|0.4685520943|0.652830596|0.1162830471|0.6561016286|-0.0482407317|\n",
      "+---------------+-------------+-------------------+------------+------------+-------------+------------+------------+------------+-------------+------------+------------+------------+------------+------------+------------+------------+-------------+-------------+-------------+------------+-------------+------------+------------+-------------+-------------+------------+------------+------------+------------+-----------+-------------+------------+-----------+-----------+------------+------------+-----------+------------+------------+-------------+-------------+-------------+------------+------------+-------------+------------+------------+------------+------------+------------+------------+------------+-------------+------------+------------+------------+------------+-------------+------------+------------+-------------+-------------+------------+------------+------------+------------+-------------+------------+-------------+-------------+-------------+-------------+------------+------------+------------+-------------+-------------+------------+------------+-----------+------------+------------+-------------+\n",
      "only showing top 1 row\n",
      "\n",
      "root\n",
      " |-- tgu_id: long (nullable = true)\n",
      " |-- idno: long (nullable = true)\n",
      " |-- finish_date: timestamp (nullable = true)\n",
      " |-- z_A01: double (nullable = true)\n",
      " |-- z_A02: double (nullable = true)\n",
      " |-- z_A03: double (nullable = true)\n",
      " |-- z_A04: double (nullable = true)\n",
      " |-- z_A05: double (nullable = true)\n",
      " |-- z_A06: double (nullable = true)\n",
      " |-- z_A07: double (nullable = true)\n",
      " |-- z_B01: double (nullable = true)\n",
      " |-- z_B02: double (nullable = true)\n",
      " |-- z_B03: double (nullable = true)\n",
      " |-- z_B04: double (nullable = true)\n",
      " |-- z_B05: double (nullable = true)\n",
      " |-- z_B06: double (nullable = true)\n",
      " |-- z_B07: double (nullable = true)\n",
      " |-- z_C01: double (nullable = true)\n",
      " |-- z_C02: double (nullable = true)\n",
      " |-- z_C03: double (nullable = true)\n",
      " |-- z_C04: double (nullable = true)\n",
      " |-- z_C05: double (nullable = true)\n",
      " |-- z_C06: double (nullable = true)\n",
      " |-- z_C07: double (nullable = true)\n",
      " |-- z_I01: double (nullable = true)\n",
      " |-- z_I02: double (nullable = true)\n",
      " |-- z_I03: double (nullable = true)\n",
      " |-- z_I04: double (nullable = true)\n",
      " |-- z_I05: double (nullable = true)\n",
      " |-- z_I06: double (nullable = true)\n",
      " |-- z_I07: double (nullable = true)\n",
      " |-- z_I08: double (nullable = true)\n",
      " |-- z_L01: double (nullable = true)\n",
      " |-- z_L02: double (nullable = true)\n",
      " |-- z_L03: double (nullable = true)\n",
      " |-- z_L04: double (nullable = true)\n",
      " |-- z_L05: double (nullable = true)\n",
      " |-- z_L06: double (nullable = true)\n",
      " |-- z_L07: double (nullable = true)\n",
      " |-- z_L08: double (nullable = true)\n",
      " |-- z_R01: double (nullable = true)\n",
      " |-- z_R02: double (nullable = true)\n",
      " |-- z_R03: double (nullable = true)\n",
      " |-- z_R04: double (nullable = true)\n",
      " |-- z_R05: double (nullable = true)\n",
      " |-- z_R06: double (nullable = true)\n",
      " |-- z_R07: double (nullable = true)\n",
      " |-- z_R08: double (nullable = true)\n",
      " |-- z_R09: double (nullable = true)\n",
      " |-- z_S01: double (nullable = true)\n",
      " |-- z_S02: double (nullable = true)\n",
      " |-- z_S03: double (nullable = true)\n",
      " |-- z_S04: double (nullable = true)\n",
      " |-- z_S05: double (nullable = true)\n",
      " |-- z_S06: double (nullable = true)\n",
      " |-- z_S07: double (nullable = true)\n",
      " |-- z_D01: double (nullable = true)\n",
      " |-- z_D02: double (nullable = true)\n",
      " |-- z_D03: double (nullable = true)\n",
      " |-- z_D04: double (nullable = true)\n",
      " |-- z_D05: double (nullable = true)\n",
      " |-- z_D06: double (nullable = true)\n",
      " |-- z_D07: double (nullable = true)\n",
      " |-- z_D08: double (nullable = true)\n",
      " |-- z_D09: double (nullable = true)\n",
      " |-- z_D10: double (nullable = true)\n",
      " |-- z_D11: double (nullable = true)\n",
      " |-- z_D12: double (nullable = true)\n",
      " |-- z_D13: double (nullable = true)\n",
      " |-- z_D14: double (nullable = true)\n",
      " |-- z_D15: double (nullable = true)\n",
      " |-- z_D16: double (nullable = true)\n",
      " |-- z_D17: double (nullable = true)\n",
      " |-- z_D18: double (nullable = true)\n",
      " |-- z_D19: double (nullable = true)\n",
      " |-- z_D20: double (nullable = true)\n",
      " |-- z_D21: double (nullable = true)\n",
      " |-- z_D22: double (nullable = true)\n",
      " |-- z_D23: double (nullable = true)\n",
      " |-- z_D24: double (nullable = true)\n",
      " |-- z_D25: double (nullable = true)\n",
      " |-- z_D26: double (nullable = true)\n",
      " |-- z_D27: double (nullable = true)\n",
      " |-- z_D28: double (nullable = true)\n",
      "\n",
      "765621\n",
      "===================\n",
      "cid_mapping:\n",
      "+---+--------+--------------------------+--------------------------+-----------+-----------+\n",
      "|cid| invoice|             mdm_comp_name|             pro_comp_name|industry_id|create_date|\n",
      "+---+--------+--------------------------+--------------------------+-----------+-----------+\n",
      "|  9|84598349|一零四資訊科技股份有限公司|一零四資訊科技股份有限公司| 1001001003| 2020-11-11|\n",
      "+---+--------+--------------------------+--------------------------+-----------+-----------+\n",
      "only showing top 1 row\n",
      "\n",
      "root\n",
      " |-- cid: long (nullable = true)\n",
      " |-- invoice: integer (nullable = true)\n",
      " |-- mdm_comp_name: string (nullable = true)\n",
      " |-- pro_comp_name: string (nullable = true)\n",
      " |-- industry_id: integer (nullable = true)\n",
      " |-- create_date: date (nullable = true)\n",
      "\n",
      "45435\n",
      "===================\n",
      "basic:\n",
      "+-------------+-------------------+\n",
      "|        id_no|        update_date|\n",
      "+-------------+-------------------+\n",
      "|1813136421615|1900-01-01 00:00:00|\n",
      "+-------------+-------------------+\n",
      "only showing top 1 row\n",
      "\n",
      "root\n",
      " |-- id_no: long (nullable = true)\n",
      " |-- update_date: timestamp (nullable = true)\n",
      "\n",
      "8173047\n",
      "===================\n",
      "exp_job:\n",
      "+---------+-------------+--------+----------+----------+-------------------+-------------------+\n",
      "|     pkey|        id_no| invoice|ind_cat_no|job_cat_no|         start_date|           end_date|\n",
      "+---------+-------------+--------+----------+----------+-------------------+-------------------+\n",
      "|402685881|1747932657183|23572557|1001004001|2001001001|1940-03-01 00:00:00|1998-03-01 00:00:00|\n",
      "+---------+-------------+--------+----------+----------+-------------------+-------------------+\n",
      "only showing top 1 row\n",
      "\n",
      "root\n",
      " |-- pkey: long (nullable = true)\n",
      " |-- id_no: long (nullable = true)\n",
      " |-- invoice: string (nullable = true)\n",
      " |-- ind_cat_no: long (nullable = true)\n",
      " |-- job_cat_no: long (nullable = true)\n",
      " |-- start_date: timestamp (nullable = true)\n",
      " |-- end_date: timestamp (nullable = true)\n",
      "\n",
      "18142840\n",
      "===================\n"
     ]
    }
   ],
   "source": [
    "print(\"target_user_sample:\")\n",
    "tgu_df.show(1)\n",
    "tgu_df.printSchema()\n",
    "print(tgu_df.count())\n",
    "print(\"===================\")\n",
    "print(\"cid_mapping:\")\n",
    "cid_df.show(1)\n",
    "cid_df.printSchema()\n",
    "print(cid_df.count())\n",
    "print(\"===================\")\n",
    "print(\"basic:\")\n",
    "basic_df.show(1)\n",
    "basic_df.printSchema()\n",
    "print(basic_df.count())\n",
    "print(\"===================\")\n",
    "print(\"exp_job:\")\n",
    "exp_job_df.show(1)\n",
    "exp_job_df.printSchema()\n",
    "print(exp_job_df.count())\n",
    "print(\"===================\")"
   ]
  },
  {
   "cell_type": "code",
   "execution_count": 4,
   "metadata": {},
   "outputs": [
    {
     "name": "stdout",
     "output_type": "stream",
     "text": [
      "Length of z fields: 81\n",
      "['tgu_id', 'idno', 'cid', 'invoice', 'industry_id', 'position_id', 'sm', 'sy', 'finish_date', 'z_A01', 'z_A02', 'z_A03', 'z_A04', 'z_A05', 'z_A06', 'z_A07', 'z_B01', 'z_B02', 'z_B03', 'z_B04', 'z_B05', 'z_B06', 'z_B07', 'z_C01', 'z_C02', 'z_C03', 'z_C04', 'z_C05', 'z_C06', 'z_C07', 'z_I01', 'z_I02', 'z_I03', 'z_I04', 'z_I05', 'z_I06', 'z_I07', 'z_I08', 'z_L01', 'z_L02', 'z_L03', 'z_L04', 'z_L05', 'z_L06', 'z_L07', 'z_L08', 'z_R01', 'z_R02', 'z_R03', 'z_R04', 'z_R05', 'z_R06', 'z_R07', 'z_R08', 'z_R09', 'z_S01', 'z_S02', 'z_S03', 'z_S04', 'z_S05', 'z_S06', 'z_S07', 'z_D01', 'z_D02', 'z_D03', 'z_D04', 'z_D05', 'z_D06', 'z_D07', 'z_D08', 'z_D09', 'z_D10', 'z_D11', 'z_D12', 'z_D13', 'z_D14', 'z_D15', 'z_D16', 'z_D17', 'z_D18', 'z_D19', 'z_D20', 'z_D21', 'z_D22', 'z_D23', 'z_D24', 'z_D25', 'z_D26', 'z_D27', 'z_D28']\n"
     ]
    }
   ],
   "source": [
    "dms_ids_c = {\n",
    "    \"A\": 7,\n",
    "    \"B\": 7,\n",
    "    \"C\": 7,\n",
    "    \"I\": 8,\n",
    "    \"L\": 8,\n",
    "    \"R\": 9,\n",
    "    \"S\": 7,\n",
    "}\n",
    "dms_p_count = 28\n",
    "\n",
    "z_fields = [f\"z_{prefix}{str(num).zfill(2)}\" for prefix, max_num in dms_ids_c.items() for num in range(1, max_num + 1)]\n",
    "z_fields += [f\"z_D{str(num).zfill(2)}\" for num in range(1, dms_p_count + 1)]\n",
    "print(f\"Length of z fields: {len(z_fields)}\")\n",
    "z_fields_str = \", \".join(z_fields)\n",
    "\n",
    "sample_fields = f\"tgu_id, idno, cid, invoice, industry_id, position_id, sm, sy, finish_date, {z_fields_str}\".split(\", \")\n",
    "print(sample_fields)"
   ]
  },
  {
   "cell_type": "code",
   "execution_count": 5,
   "metadata": {},
   "outputs": [
    {
     "name": "stdout",
     "output_type": "stream",
     "text": [
      "['tgu_id', 'idno', 'pkey', 'invoice', 'ind_cat_no', 'job_cat_no', 'start_date', 'end_date', 'finish_date', 'z_A01', 'z_A02', 'z_A03', 'z_A04', 'z_A05', 'z_A06', 'z_A07', 'z_B01', 'z_B02', 'z_B03', 'z_B04', 'z_B05', 'z_B06', 'z_B07', 'z_C01', 'z_C02', 'z_C03', 'z_C04', 'z_C05', 'z_C06', 'z_C07', 'z_I01', 'z_I02', 'z_I03', 'z_I04', 'z_I05', 'z_I06', 'z_I07', 'z_I08', 'z_L01', 'z_L02', 'z_L03', 'z_L04', 'z_L05', 'z_L06', 'z_L07', 'z_L08', 'z_R01', 'z_R02', 'z_R03', 'z_R04', 'z_R05', 'z_R06', 'z_R07', 'z_R08', 'z_R09', 'z_S01', 'z_S02', 'z_S03', 'z_S04', 'z_S05', 'z_S06', 'z_S07', 'z_D01', 'z_D02', 'z_D03', 'z_D04', 'z_D05', 'z_D06', 'z_D07', 'z_D08', 'z_D09', 'z_D10', 'z_D11', 'z_D12', 'z_D13', 'z_D14', 'z_D15', 'z_D16', 'z_D17', 'z_D18', 'z_D19', 'z_D20', 'z_D21', 'z_D22', 'z_D23', 'z_D24', 'z_D25', 'z_D26', 'z_D27', 'z_D28']\n",
      "2467412\n"
     ]
    }
   ],
   "source": [
    "exp_job_fields = []\n",
    "for col in exp_job_df.columns:\n",
    "    if col == \"id_no\":\n",
    "        continue\n",
    "    else:\n",
    "        if col == \"invoice\":\n",
    "            exp_job_fields.append(f\"CAST(exp.{col} AS INT)\")\n",
    "        else:\n",
    "            exp_job_fields.append(f\"exp.{col}\")\n",
    "exp_str = \", \".join(exp_job_fields)\n",
    "tgu_z_fields_str = \", \".join(f\"tgu.{z_field} AS {z_field}\" for z_field in z_fields)\n",
    "query = f\"\"\"\n",
    "    SELECT\n",
    "        tgu.tgu_id,\n",
    "        tgu.idno,\n",
    "        {exp_str},\n",
    "        tgu.finish_date,\n",
    "        {tgu_z_fields_str}\n",
    "    FROM exp_job AS exp\n",
    "    INNER JOIN target_user_sample AS tgu ON exp.id_no = tgu.idno\n",
    "    WHERE tgu.idno IS NOT NULL AND (exp.ind_cat_no > 0 OR exp.job_cat_no > 0)\n",
    "\"\"\"\n",
    "exp_tgu_df = spark.sql(query).cache()\n",
    "print(exp_tgu_df.columns)\n",
    "print(exp_tgu_df.count())\n",
    "exp_tgu_df.createOrReplaceTempView(\"exp_tgu_df\")"
   ]
  },
  {
   "cell_type": "code",
   "execution_count": 6,
   "metadata": {},
   "outputs": [
    {
     "name": "stdout",
     "output_type": "stream",
     "text": [
      "['tgu_id', 'idno', 'pkey', 'invoice', 'ind_cat_no', 'job_cat_no', 'start_date', 'end_date', 'finish_date', 'z_A01', 'z_A02', 'z_A03', 'z_A04', 'z_A05', 'z_A06', 'z_A07', 'z_B01', 'z_B02', 'z_B03', 'z_B04', 'z_B05', 'z_B06', 'z_B07', 'z_C01', 'z_C02', 'z_C03', 'z_C04', 'z_C05', 'z_C06', 'z_C07', 'z_I01', 'z_I02', 'z_I03', 'z_I04', 'z_I05', 'z_I06', 'z_I07', 'z_I08', 'z_L01', 'z_L02', 'z_L03', 'z_L04', 'z_L05', 'z_L06', 'z_L07', 'z_L08', 'z_R01', 'z_R02', 'z_R03', 'z_R04', 'z_R05', 'z_R06', 'z_R07', 'z_R08', 'z_R09', 'z_S01', 'z_S02', 'z_S03', 'z_S04', 'z_S05', 'z_S06', 'z_S07', 'z_D01', 'z_D02', 'z_D03', 'z_D04', 'z_D05', 'z_D06', 'z_D07', 'z_D08', 'z_D09', 'z_D10', 'z_D11', 'z_D12', 'z_D13', 'z_D14', 'z_D15', 'z_D16', 'z_D17', 'z_D18', 'z_D19', 'z_D20', 'z_D21', 'z_D22', 'z_D23', 'z_D24', 'z_D25', 'z_D26', 'z_D27', 'z_D28', 'update_date']\n",
      "2467412\n"
     ]
    }
   ],
   "source": [
    "exp_tgu_str = \", \".join(f\"et.{col}\" for col in exp_tgu_df.columns)\n",
    "query = f\"\"\"\n",
    "    SELECT\n",
    "        {exp_tgu_str},\n",
    "        b.update_date\n",
    "    FROM exp_tgu_df AS et\n",
    "    INNER JOIN basic AS b ON et.idno = b.id_no\n",
    "\"\"\"\n",
    "exp_tgu_basic_df = spark.sql(query).cache()\n",
    "print(exp_tgu_basic_df.columns)\n",
    "print(exp_tgu_basic_df.count())\n",
    "exp_tgu_basic_df.createOrReplaceTempView(\"exp_tgu_basic_df\")"
   ]
  },
  {
   "cell_type": "code",
   "execution_count": 7,
   "metadata": {},
   "outputs": [
    {
     "name": "stdout",
     "output_type": "stream",
     "text": [
      "+-----+-------+------+\n",
      "|  cid|invoice|row_no|\n",
      "+-----+-------+------+\n",
      "|57082| 971770|     1|\n",
      "|66918|1187025|     1|\n",
      "|60748|2335002|     1|\n",
      "+-----+-------+------+\n",
      "only showing top 3 rows\n",
      "\n"
     ]
    }
   ],
   "source": [
    "query = f\"\"\"\n",
    "    SELECT\n",
    "        cid, invoice, row_no\n",
    "    FROM (\n",
    "        SELECT *, ROW_NUMBER() OVER (PARTITION BY invoice ORDER BY cid) AS row_no\n",
    "        FROM cid_mapping\n",
    "    ) AS cid\n",
    "    WHERE row_no = 1\n",
    "\"\"\"\n",
    "cid_df = spark.sql(query)\n",
    "cid_df.show(3)\n",
    "cid_df.createOrReplaceTempView(\"cid_df\")"
   ]
  },
  {
   "cell_type": "code",
   "execution_count": 8,
   "metadata": {},
   "outputs": [
    {
     "name": "stdout",
     "output_type": "stream",
     "text": [
      "['tgu_id', 'idno', 'pkey', 'invoice', 'ind_cat_no', 'job_cat_no', 'start_date', 'end_date', 'finish_date', 'z_A01', 'z_A02', 'z_A03', 'z_A04', 'z_A05', 'z_A06', 'z_A07', 'z_B01', 'z_B02', 'z_B03', 'z_B04', 'z_B05', 'z_B06', 'z_B07', 'z_C01', 'z_C02', 'z_C03', 'z_C04', 'z_C05', 'z_C06', 'z_C07', 'z_I01', 'z_I02', 'z_I03', 'z_I04', 'z_I05', 'z_I06', 'z_I07', 'z_I08', 'z_L01', 'z_L02', 'z_L03', 'z_L04', 'z_L05', 'z_L06', 'z_L07', 'z_L08', 'z_R01', 'z_R02', 'z_R03', 'z_R04', 'z_R05', 'z_R06', 'z_R07', 'z_R08', 'z_R09', 'z_S01', 'z_S02', 'z_S03', 'z_S04', 'z_S05', 'z_S06', 'z_S07', 'z_D01', 'z_D02', 'z_D03', 'z_D04', 'z_D05', 'z_D06', 'z_D07', 'z_D08', 'z_D09', 'z_D10', 'z_D11', 'z_D12', 'z_D13', 'z_D14', 'z_D15', 'z_D16', 'z_D17', 'z_D18', 'z_D19', 'z_D20', 'z_D21', 'z_D22', 'z_D23', 'z_D24', 'z_D25', 'z_D26', 'z_D27', 'z_D28', 'update_date', 'cid']\n"
     ]
    }
   ],
   "source": [
    "exp_tgu_basic_str = \", \".join(f\"etb.{col} AS {col}\" for col in exp_tgu_basic_df.columns)\n",
    "query = f\"\"\"\n",
    "    SELECT\n",
    "        {exp_tgu_basic_str},\n",
    "        CASE WHEN cid.cid IS NULL OR cid.invoice = 0 THEN 0 ELSE cid.cid END AS cid\n",
    "    FROM exp_tgu_basic_df AS etb\n",
    "    LEFT JOIN cid_df AS cid ON etb.invoice = cid.invoice\n",
    "\"\"\"\n",
    "joined_df = spark.sql(query).cache()\n",
    "print(joined_df.columns)\n",
    "joined_df.createOrReplaceTempView(\"module_cpi_sample\")"
   ]
  },
  {
   "cell_type": "code",
   "execution_count": 9,
   "metadata": {},
   "outputs": [
    {
     "name": "stdout",
     "output_type": "stream",
     "text": [
      "['pkey', 'tgu_id', 'idno', 'cid', 'invoice', 'industry_id', 'position_id', 'finish_date', 'start_date', 'end_date', 'final_end_date', 'sm', 'z_A01', 'z_A02', 'z_A03', 'z_A04', 'z_A05', 'z_A06', 'z_A07', 'z_B01', 'z_B02', 'z_B03', 'z_B04', 'z_B05', 'z_B06', 'z_B07', 'z_C01', 'z_C02', 'z_C03', 'z_C04', 'z_C05', 'z_C06', 'z_C07', 'z_I01', 'z_I02', 'z_I03', 'z_I04', 'z_I05', 'z_I06', 'z_I07', 'z_I08', 'z_L01', 'z_L02', 'z_L03', 'z_L04', 'z_L05', 'z_L06', 'z_L07', 'z_L08', 'z_R01', 'z_R02', 'z_R03', 'z_R04', 'z_R05', 'z_R06', 'z_R07', 'z_R08', 'z_R09', 'z_S01', 'z_S02', 'z_S03', 'z_S04', 'z_S05', 'z_S06', 'z_S07', 'z_D01', 'z_D02', 'z_D03', 'z_D04', 'z_D05', 'z_D06', 'z_D07', 'z_D08', 'z_D09', 'z_D10', 'z_D11', 'z_D12', 'z_D13', 'z_D14', 'z_D15', 'z_D16', 'z_D17', 'z_D18', 'z_D19', 'z_D20', 'z_D21', 'z_D22', 'z_D23', 'z_D24', 'z_D25', 'z_D26', 'z_D27', 'z_D28']\n",
      "2467412\n"
     ]
    }
   ],
   "source": [
    "query = f\"\"\"\n",
    "    SELECT\n",
    "        pkey, tgu_id, idno, cid, invoice, industry_id, position_id, finish_date,\n",
    "        start_date,\n",
    "        end_date,\n",
    "        final_end_date,\n",
    "        12 * (YEAR(final_end_date) - YEAR(start_date)) + MONTH(final_end_date) - MONTH(start_date) AS sm,\n",
    "        {z_fields_str}\n",
    "    FROM (\n",
    "        SELECT\n",
    "            pkey, tgu_id, idno, invoice, cid, ind_cat_no AS industry_id, job_cat_no AS position_id, finish_date,\n",
    "            start_date,\n",
    "            end_date,\n",
    "            CASE WHEN TO_UNIX_TIMESTAMP(start_date) < TO_UNIX_TIMESTAMP(end_date)\n",
    "                THEN end_date ELSE update_date\n",
    "            END AS final_end_date,\n",
    "            {z_fields_str}\n",
    "        FROM module_cpi_sample\n",
    "    )\n",
    "\"\"\"\n",
    "end_date_df = spark.sql(query).cache()\n",
    "print(end_date_df.columns)\n",
    "print(end_date_df.count())\n",
    "end_date_df.createOrReplaceTempView(\"end_date_df\")"
   ]
  },
  {
   "cell_type": "code",
   "execution_count": 10,
   "metadata": {},
   "outputs": [
    {
     "name": "stdout",
     "output_type": "stream",
     "text": [
      "['pkey', 'tgu_id', 'idno', 'invoice', 'cid', 'industry_id', 'position_id', 'finish_date', 'start_date', 'end_date', 'final_end_date', 'sm', 'z_A01', 'z_A02', 'z_A03', 'z_A04', 'z_A05', 'z_A06', 'z_A07', 'z_B01', 'z_B02', 'z_B03', 'z_B04', 'z_B05', 'z_B06', 'z_B07', 'z_C01', 'z_C02', 'z_C03', 'z_C04', 'z_C05', 'z_C06', 'z_C07', 'z_I01', 'z_I02', 'z_I03', 'z_I04', 'z_I05', 'z_I06', 'z_I07', 'z_I08', 'z_L01', 'z_L02', 'z_L03', 'z_L04', 'z_L05', 'z_L06', 'z_L07', 'z_L08', 'z_R01', 'z_R02', 'z_R03', 'z_R04', 'z_R05', 'z_R06', 'z_R07', 'z_R08', 'z_R09', 'z_S01', 'z_S02', 'z_S03', 'z_S04', 'z_S05', 'z_S06', 'z_S07', 'z_D01', 'z_D02', 'z_D03', 'z_D04', 'z_D05', 'z_D06', 'z_D07', 'z_D08', 'z_D09', 'z_D10', 'z_D11', 'z_D12', 'z_D13', 'z_D14', 'z_D15', 'z_D16', 'z_D17', 'z_D18', 'z_D19', 'z_D20', 'z_D21', 'z_D22', 'z_D23', 'z_D24', 'z_D25', 'z_D26', 'z_D27', 'z_D28']\n",
      "2467412\n"
     ]
    }
   ],
   "source": [
    "query = f\"\"\"\n",
    "    SELECT\n",
    "        pkey, tgu_id, idno, invoice, cid, industry_id, position_id, finish_date,\n",
    "        start_date, end_date, final_end_date,\n",
    "        CASE WHEN sm > 750 THEN 750 ELSE sm END AS sm,\n",
    "        {z_fields_str}\n",
    "    FROM end_date_df\n",
    "\"\"\"\n",
    "limit_sm_df = spark.sql(query).cache()\n",
    "print(limit_sm_df.columns)\n",
    "print(limit_sm_df.count())\n",
    "limit_sm_df.createOrReplaceTempView(\"limit_sm_df\")"
   ]
  },
  {
   "cell_type": "code",
   "execution_count": 11,
   "metadata": {},
   "outputs": [],
   "source": [
    "query = f\"\"\"\n",
    "    SELECT\n",
    "        pkey, tgu_id, idno, cid, invoice, industry_id, position_id, finish_date,\n",
    "        start_date, end_date, final_end_date,\n",
    "        sm,\n",
    "        CASE WHEN TO_UNIX_TIMESTAMP(start_date) < TO_UNIX_TIMESTAMP(end_date)\n",
    "            THEN CASE WHEN sm == 0 THEN ROUND(2 + LOG2(0.5/3), 10) ELSE ROUND(2 + LOG2(sm/3), 10) END\n",
    "            ELSE -9.9999999999\n",
    "        END AS sy,\n",
    "        {z_fields_str}\n",
    "    FROM limit_sm_df\n",
    "\"\"\"\n",
    "sy_df = spark.sql(query).cache()\n",
    "sy_df.createOrReplaceTempView(\"sy_df\")"
   ]
  },
  {
   "cell_type": "code",
   "execution_count": 12,
   "metadata": {},
   "outputs": [
    {
     "name": "stdout",
     "output_type": "stream",
     "text": [
      "['tgu_id', 'idno', 'cid', 'invoice', 'industry_id', 'position_id', 'sm', 'sy', 'finish_date', 'z_A01', 'z_A02', 'z_A03', 'z_A04', 'z_A05', 'z_A06', 'z_A07', 'z_B01', 'z_B02', 'z_B03', 'z_B04', 'z_B05', 'z_B06', 'z_B07', 'z_C01', 'z_C02', 'z_C03', 'z_C04', 'z_C05', 'z_C06', 'z_C07', 'z_I01', 'z_I02', 'z_I03', 'z_I04', 'z_I05', 'z_I06', 'z_I07', 'z_I08', 'z_L01', 'z_L02', 'z_L03', 'z_L04', 'z_L05', 'z_L06', 'z_L07', 'z_L08', 'z_R01', 'z_R02', 'z_R03', 'z_R04', 'z_R05', 'z_R06', 'z_R07', 'z_R08', 'z_R09', 'z_S01', 'z_S02', 'z_S03', 'z_S04', 'z_S05', 'z_S06', 'z_S07', 'z_D01', 'z_D02', 'z_D03', 'z_D04', 'z_D05', 'z_D06', 'z_D07', 'z_D08', 'z_D09', 'z_D10', 'z_D11', 'z_D12', 'z_D13', 'z_D14', 'z_D15', 'z_D16', 'z_D17', 'z_D18', 'z_D19', 'z_D20', 'z_D21', 'z_D22', 'z_D23', 'z_D24', 'z_D25', 'z_D26', 'z_D27', 'z_D28']\n",
      "2214509\n"
     ]
    }
   ],
   "source": [
    "query = f\"\"\"\n",
    "    SELECT\n",
    "        tgu_id, idno, cid, invoice, industry_id, position_id,\n",
    "        sm, sy,\n",
    "        finish_date,\n",
    "        {z_fields_str}\n",
    "    FROM (\n",
    "        SELECT\n",
    "            *,\n",
    "            ROW_NUMBER() OVER (\n",
    "                PARTITION BY pkey\n",
    "                ORDER BY (\n",
    "                    ABS((TO_UNIX_TIMESTAMP(start_date) + TO_UNIX_TIMESTAMP(final_end_date)) / 2 - TO_UNIX_TIMESTAMP(finish_date))\n",
    "                )\n",
    "            ) AS tgu_no\n",
    "        FROM sy_df\n",
    "    )\n",
    "    WHERE tgu_no = 1\n",
    "    ORDER BY tgu_id, idno, cid, invoice, industry_id, position_id, sm, sy\n",
    "\"\"\"\n",
    "closed_fin_date_tgu_df = spark.sql(query).cache()\n",
    "print(closed_fin_date_tgu_df.columns)\n",
    "print(closed_fin_date_tgu_df.count())"
   ]
  },
  {
   "cell_type": "code",
   "execution_count": 13,
   "metadata": {},
   "outputs": [
    {
     "name": "stdout",
     "output_type": "stream",
     "text": [
      "completed in 0:03:48.263954\n"
     ]
    }
   ],
   "source": [
    "end = datetime.now()\n",
    "print(f\"completed in {end - start}\")"
   ]
  },
  {
   "cell_type": "code",
   "execution_count": null,
   "metadata": {},
   "outputs": [],
   "source": []
  }
 ],
 "metadata": {
  "kernelspec": {
   "display_name": "Python 3",
   "language": "python",
   "name": "python3"
  },
  "language_info": {
   "codemirror_mode": {
    "name": "ipython",
    "version": 3
   },
   "file_extension": ".py",
   "mimetype": "text/x-python",
   "name": "python",
   "nbconvert_exporter": "python",
   "pygments_lexer": "ipython3",
   "version": "3.7.6"
  }
 },
 "nbformat": 4,
 "nbformat_minor": 4
}
