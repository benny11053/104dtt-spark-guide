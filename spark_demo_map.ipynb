{
 "cells": [
  {
   "cell_type": "code",
   "execution_count": 1,
   "metadata": {},
   "outputs": [],
   "source": [
    "import math\n",
    "from pathlib import Path\n",
    "\n",
    "import pickle as pkl\n",
    "from datetime import datetime\n",
    "\n",
    "import pymysql\n",
    "\n",
    "start = datetime.now()"
   ]
  },
  {
   "cell_type": "code",
   "execution_count": 2,
   "metadata": {},
   "outputs": [],
   "source": [
    "property = {\n",
    "    \"host\": \"\",\n",
    "    \"user\": \"\",\n",
    "    \"password\": \"\",\n",
    "    \"database\": \"\",\n",
    "}"
   ]
  },
  {
   "cell_type": "code",
   "execution_count": 3,
   "metadata": {},
   "outputs": [],
   "source": [
    "def sql(query, method = \"all\"):\n",
    "    with connection.cursor() as cursor:\n",
    "        cursor.execute(query)\n",
    "        if method == \"all\":\n",
    "            result = cursor.fetchall()\n",
    "        elif method == \"one\":\n",
    "            result = cursor.fetchone()\n",
    "        else:\n",
    "            ValueError(\"query error:\", query)\n",
    "    end = datetime.now()\n",
    "    time_taken = end - start\n",
    "    print(f\"query completed in {time_taken}\")\n",
    "\n",
    "    return result"
   ]
  },
  {
   "cell_type": "code",
   "execution_count": 4,
   "metadata": {},
   "outputs": [
    {
     "name": "stdout",
     "output_type": "stream",
     "text": [
      "z_A01, z_A02, z_A03, z_A04, z_A05, z_A06, z_A07, z_B01, z_B02, z_B03, z_B04, z_B05, z_B06, z_B07, z_C01, z_C02, z_C03, z_C04, z_C05, z_C06, z_C07, z_I01, z_I02, z_I03, z_I04, z_I05, z_I06, z_I07, z_I08, z_L01, z_L02, z_L03, z_L04, z_L05, z_L06, z_L07, z_L08, z_R01, z_R02, z_R03, z_R04, z_R05, z_R06, z_R07, z_R08, z_R09, z_S01, z_S02, z_S03, z_S04, z_S05, z_S06, z_S07, z_D01, z_D02, z_D03, z_D04, z_D05, z_D06, z_D07, z_D08, z_D09, z_D10, z_D11, z_D12, z_D13, z_D14, z_D15, z_D16, z_D17, z_D18, z_D19, z_D20, z_D21, z_D22, z_D23, z_D24, z_D25, z_D26, z_D27, z_D28\n",
      "\n",
      "['tgu_id', 'idno', 'cid', 'invoice', 'industry_id', 'position_id', 'sm', 'sy', 'finish_date', 'z_A01', 'z_A02', 'z_A03', 'z_A04', 'z_A05', 'z_A06', 'z_A07', 'z_B01', 'z_B02', 'z_B03', 'z_B04', 'z_B05', 'z_B06', 'z_B07', 'z_C01', 'z_C02', 'z_C03', 'z_C04', 'z_C05', 'z_C06', 'z_C07', 'z_I01', 'z_I02', 'z_I03', 'z_I04', 'z_I05', 'z_I06', 'z_I07', 'z_I08', 'z_L01', 'z_L02', 'z_L03', 'z_L04', 'z_L05', 'z_L06', 'z_L07', 'z_L08', 'z_R01', 'z_R02', 'z_R03', 'z_R04', 'z_R05', 'z_R06', 'z_R07', 'z_R08', 'z_R09', 'z_S01', 'z_S02', 'z_S03', 'z_S04', 'z_S05', 'z_S06', 'z_S07', 'z_D01', 'z_D02', 'z_D03', 'z_D04', 'z_D05', 'z_D06', 'z_D07', 'z_D08', 'z_D09', 'z_D10', 'z_D11', 'z_D12', 'z_D13', 'z_D14', 'z_D15', 'z_D16', 'z_D17', 'z_D18', 'z_D19', 'z_D20', 'z_D21', 'z_D22', 'z_D23', 'z_D24', 'z_D25', 'z_D26', 'z_D27', 'z_D28']\n"
     ]
    }
   ],
   "source": [
    "dms_ids_c = {\n",
    "    \"A\": 7,\n",
    "    \"B\": 7,\n",
    "    \"C\": 7,\n",
    "    \"I\": 8,\n",
    "    \"L\": 8,\n",
    "    \"R\": 9,\n",
    "    \"S\": 7,\n",
    "}\n",
    "dms_p_count = 28\n",
    "\n",
    "z_fields = [f\"z_{prefix}{str(num).zfill(2)}\" for prefix, max_num in dms_ids_c.items() for num in range(1, max_num + 1)]\n",
    "z_fields += [f\"z_D{str(num).zfill(2)}\" for num in range(1, dms_p_count + 1)]\n",
    "z_fields_str = \", \".join(z_fields)\n",
    "print(z_fields_str)\n",
    "print()\n",
    "\n",
    "sample_fields = f\"tgu_id, idno, cid, invoice, industry_id, position_id, sm, sy, finish_date, {z_fields_str}\".split(\", \")\n",
    "print(sample_fields)"
   ]
  },
  {
   "cell_type": "code",
   "execution_count": 5,
   "metadata": {},
   "outputs": [],
   "source": [
    "def get_connection():\n",
    "    return pymysql.connect(\n",
    "        host=property[\"host\"],\n",
    "        user=property[\"user\"],\n",
    "        password=property[\"password\"],\n",
    "        database=property[\"database\"],\n",
    "        charset='utf8mb4',\n",
    "        cursorclass=pymysql.cursors.DictCursor,\n",
    "    )"
   ]
  },
  {
   "cell_type": "code",
   "execution_count": 6,
   "metadata": {},
   "outputs": [
    {
     "name": "stdout",
     "output_type": "stream",
     "text": [
      "query completed in 0:01:36.374669\n"
     ]
    }
   ],
   "source": [
    "connection = get_connection()\n",
    "\n",
    "try:\n",
    "    tgu_str = f\"tgu_id, idno, finish_date, {z_fields_str}\"\n",
    "    query = f\"\"\"\n",
    "        SELECT {tgu_str}\n",
    "        FROM target_user_sample\n",
    "    \"\"\"\n",
    "    tgus = sql(query)\n",
    "except Exception:\n",
    "    connection.close()\n",
    "finally:\n",
    "    connection.close()"
   ]
  },
  {
   "cell_type": "code",
   "execution_count": 7,
   "metadata": {},
   "outputs": [
    {
     "name": "stdout",
     "output_type": "stream",
     "text": [
      "query completed in 0:07:37.465491\n"
     ]
    }
   ],
   "source": [
    "connection = get_connection()\n",
    "\n",
    "try:\n",
    "    query = \"\"\"\n",
    "        SELECT id_no, invoice, ind_cat_no, job_cat_no, start_date, end_date\n",
    "        FROM exp_job\n",
    "        WHERE job_cat_no > 0 OR ind_cat_no > 0\n",
    "    \"\"\"\n",
    "    exps = sql(query)\n",
    "except Exception:\n",
    "    connection.close()\n",
    "finally:\n",
    "    connection.close()"
   ]
  },
  {
   "cell_type": "code",
   "execution_count": 8,
   "metadata": {},
   "outputs": [
    {
     "name": "stdout",
     "output_type": "stream",
     "text": [
      "query completed in 0:09:12.029137\n"
     ]
    }
   ],
   "source": [
    "connection = get_connection()\n",
    "\n",
    "try:\n",
    "    query = \"SELECT id_no, update_date FROM basic\"\n",
    "    basics = sql(query)\n",
    "except Exception:\n",
    "    connection.close()\n",
    "finally:\n",
    "    connection.close()"
   ]
  },
  {
   "cell_type": "code",
   "execution_count": 9,
   "metadata": {},
   "outputs": [
    {
     "name": "stdout",
     "output_type": "stream",
     "text": [
      "query completed in 0:09:12.697715\n"
     ]
    }
   ],
   "source": [
    "connection = get_connection()\n",
    "\n",
    "try:\n",
    "    query = f\"\"\"SELECT cid, invoice FROM cid_mapping ORDER BY invoice, cid\"\"\"\n",
    "    cids = sql(query)\n",
    "except Exception:\n",
    "    connection.close()\n",
    "finally:\n",
    "    connection.close()"
   ]
  },
  {
   "cell_type": "code",
   "execution_count": 10,
   "metadata": {},
   "outputs": [
    {
     "name": "stdout",
     "output_type": "stream",
     "text": [
      "765621\n",
      "18140719\n",
      "8173047\n",
      "47179\n"
     ]
    }
   ],
   "source": [
    "print(len(tgus))\n",
    "print(len(exps))\n",
    "print(len(basics))\n",
    "print(len(cids))"
   ]
  },
  {
   "cell_type": "code",
   "execution_count": 11,
   "metadata": {},
   "outputs": [],
   "source": [
    "def convert2map(table_l):\n",
    "    print(len(table_l))\n",
    "    table_map = {}\n",
    "    for i, item in enumerate(table_l):\n",
    "        new_item = item.copy()\n",
    "        if \"idno\" in new_item:\n",
    "            key = \"idno\"\n",
    "            idno = new_item[key]\n",
    "            del new_item[key]\n",
    "            if idno not in table_map:\n",
    "                table_map[idno] = [new_item]\n",
    "            else:\n",
    "                table_map[idno].append(new_item)\n",
    "        elif \"id_no\" in new_item:\n",
    "            key = \"id_no\"\n",
    "            idno = new_item[key]\n",
    "            del new_item[key]\n",
    "            if idno not in table_map:\n",
    "                table_map[idno] = [new_item]\n",
    "            else:\n",
    "                table_map[idno].append(new_item)\n",
    "        elif \"invoice\" in new_item:\n",
    "            key = \"invoice\"\n",
    "            invoice = new_item[key]\n",
    "            if invoice not in table_map:\n",
    "                del new_item[key]\n",
    "                table_map[invoice] = new_item\n",
    "\n",
    "    return table_map"
   ]
  },
  {
   "cell_type": "code",
   "execution_count": 12,
   "metadata": {},
   "outputs": [
    {
     "name": "stdout",
     "output_type": "stream",
     "text": [
      "765621\n",
      "8173047\n",
      "47179\n",
      "18140719\n"
     ]
    }
   ],
   "source": [
    "tgu_map = convert2map(tgus)\n",
    "del tgus\n",
    "basic_map = convert2map(basics)\n",
    "del basics\n",
    "cid_map = convert2map(cids)\n",
    "del cids\n",
    "exp_map = convert2map(exps)\n",
    "del exps"
   ]
  },
  {
   "cell_type": "code",
   "execution_count": 13,
   "metadata": {},
   "outputs": [
    {
     "name": "stdout",
     "output_type": "stream",
     "text": [
      "100000 completed in 0:10:13.098883\n",
      "200000 completed in 0:10:20.582791\n",
      "300000 completed in 0:10:28.054503\n",
      "400000 completed in 0:10:35.470221\n",
      "500000 completed in 0:10:42.853857\n",
      "700000 completed in 0:10:55.957782\n"
     ]
    }
   ],
   "source": [
    "sample_datas = []\n",
    "for i, (idno, tgu_obj) in enumerate(tgu_map.items(), start=1):\n",
    "    if idno not in exp_map:\n",
    "        continue\n",
    "\n",
    "    exps = exp_map[idno]\n",
    "\n",
    "    for exp in exps:\n",
    "        start_ts = exp[\"start_date\"].timestamp()\n",
    "        start_y = int(exp[\"start_date\"].strftime(\"%Y\"))\n",
    "        start_m = int(exp[\"start_date\"].strftime(\"%m\"))\n",
    "\n",
    "        if exp[\"end_date\"] and start_ts < exp[\"end_date\"].timestamp():\n",
    "            end_ts = exp[\"end_date\"].timestamp()\n",
    "            end_y = int(exp[\"end_date\"].strftime(\"%Y\"))\n",
    "            end_m = int(exp[\"end_date\"].strftime(\"%m\"))\n",
    "        else:\n",
    "            if not exp[\"end_date\"]:\n",
    "                print(f\"~~~ -> {exp['end_date']}\")\n",
    "\n",
    "            basic = basic_map[idno][0]\n",
    "            end_ts = basic[\"update_date\"].timestamp()\n",
    "            end_y = int(basic[\"update_date\"].strftime(\"%Y\"))\n",
    "            end_m = int(basic[\"update_date\"].strftime(\"%m\"))\n",
    "\n",
    "        sm = (end_y - start_y) * 12 + (end_m - start_m)\n",
    "        sm = 750 if sm > 750 else sm\n",
    "\n",
    "        sy = -9.9999999999\n",
    "        if exp[\"end_date\"] and start_ts < exp[\"end_date\"].timestamp():\n",
    "            if sm == 0:\n",
    "                sy = round(2 + math.log2(0.5 / 3), 10)\n",
    "            else:\n",
    "                sy = round(2 + math.log2(sm / 3), 10)\n",
    "\n",
    "        tgus = tgu_obj\n",
    "\n",
    "        min_diff = 1e20\n",
    "        for tgu in tgus:\n",
    "            cur_diff = abs((start_ts + end_ts) / 2 - tgu[\"finish_date\"].timestamp())\n",
    "            if cur_diff < min_diff:\n",
    "                target_tgu = tgu\n",
    "                min_diff = cur_diff\n",
    "\n",
    "        invoice = int(exp[\"invoice\"])\n",
    "        cid = {\"cid\": 0} if invoice == 0 or invoice not in cid_map else cid_map[invoice]\n",
    "        sample_data = target_tgu.copy()\n",
    "        sample_data[\"idno\"] = idno\n",
    "        sample_data[\"cid\"] = cid[\"cid\"]\n",
    "        sample_data[\"invoice\"] = int(exp[\"invoice\"])\n",
    "        sample_data[\"industry_id\"] = exp[\"ind_cat_no\"]\n",
    "        sample_data[\"position_id\"] = exp[\"job_cat_no\"]\n",
    "        sample_data[\"sm\"] = sm\n",
    "        sample_data[\"sy\"] = sy\n",
    "        sample_datas.append(sample_data)\n",
    "\n",
    "    if i % 100000 == 0 or i == len(exp_map):\n",
    "        end = datetime.now()\n",
    "        time_taken = end - start\n",
    "        print(f\"{i} completed in {time_taken}\")"
   ]
  },
  {
   "cell_type": "code",
   "execution_count": 14,
   "metadata": {},
   "outputs": [
    {
     "name": "stdout",
     "output_type": "stream",
     "text": [
      "700122 completed in 0:10:55.971685\n",
      "2214509\n"
     ]
    }
   ],
   "source": [
    "display_fields = (\"tgu_id\", \"idno\", \"cid\", \"invoice\", \"industry_id\", \"position_id\", \"sm\", \"sy\", \"finish_date\", \"z_D01\", \"z_A01\")\n",
    "end = datetime.now()\n",
    "time_taken = end - start\n",
    "print(f\"{i} completed in {time_taken}\")\n",
    "print(len(sample_datas))"
   ]
  },
  {
   "cell_type": "code",
   "execution_count": null,
   "metadata": {},
   "outputs": [],
   "source": []
  }
 ],
 "metadata": {
  "kernelspec": {
   "display_name": "Python 3",
   "language": "python",
   "name": "python3"
  },
  "language_info": {
   "codemirror_mode": {
    "name": "ipython",
    "version": 3
   },
   "file_extension": ".py",
   "mimetype": "text/x-python",
   "name": "python",
   "nbconvert_exporter": "python",
   "pygments_lexer": "ipython3",
   "version": "3.7.6"
  }
 },
 "nbformat": 4,
 "nbformat_minor": 4
}
